{
 "cells": [
  {
   "cell_type": "code",
   "execution_count": 1,
   "metadata": {},
   "outputs": [],
   "source": [
    "import pandas as pd\n",
    "data = pd.read_csv(\"train.csv\")"
   ]
  },
  {
   "cell_type": "code",
   "execution_count": 2,
   "metadata": {},
   "outputs": [
    {
     "data": {
      "text/html": [
       "<div>\n",
       "<style scoped>\n",
       "    .dataframe tbody tr th:only-of-type {\n",
       "        vertical-align: middle;\n",
       "    }\n",
       "\n",
       "    .dataframe tbody tr th {\n",
       "        vertical-align: top;\n",
       "    }\n",
       "\n",
       "    .dataframe thead th {\n",
       "        text-align: right;\n",
       "    }\n",
       "</style>\n",
       "<table border=\"1\" class=\"dataframe\">\n",
       "  <thead>\n",
       "    <tr style=\"text-align: right;\">\n",
       "      <th></th>\n",
       "      <th>employee_id</th>\n",
       "      <th>department</th>\n",
       "      <th>region</th>\n",
       "      <th>education</th>\n",
       "      <th>gender</th>\n",
       "      <th>recruitment_channel</th>\n",
       "      <th>no_of_trainings</th>\n",
       "      <th>age</th>\n",
       "      <th>previous_year_rating</th>\n",
       "      <th>length_of_service</th>\n",
       "      <th>KPIs_met &gt;80%</th>\n",
       "      <th>awards_won?</th>\n",
       "      <th>avg_training_score</th>\n",
       "      <th>is_promoted</th>\n",
       "    </tr>\n",
       "  </thead>\n",
       "  <tbody>\n",
       "    <tr>\n",
       "      <th>0</th>\n",
       "      <td>65438</td>\n",
       "      <td>Sales &amp; Marketing</td>\n",
       "      <td>region_7</td>\n",
       "      <td>Master's &amp; above</td>\n",
       "      <td>f</td>\n",
       "      <td>sourcing</td>\n",
       "      <td>1</td>\n",
       "      <td>35</td>\n",
       "      <td>5.0</td>\n",
       "      <td>8</td>\n",
       "      <td>1</td>\n",
       "      <td>0</td>\n",
       "      <td>49</td>\n",
       "      <td>0</td>\n",
       "    </tr>\n",
       "    <tr>\n",
       "      <th>1</th>\n",
       "      <td>65141</td>\n",
       "      <td>Operations</td>\n",
       "      <td>region_22</td>\n",
       "      <td>Bachelor's</td>\n",
       "      <td>m</td>\n",
       "      <td>other</td>\n",
       "      <td>1</td>\n",
       "      <td>30</td>\n",
       "      <td>5.0</td>\n",
       "      <td>4</td>\n",
       "      <td>0</td>\n",
       "      <td>0</td>\n",
       "      <td>60</td>\n",
       "      <td>0</td>\n",
       "    </tr>\n",
       "    <tr>\n",
       "      <th>2</th>\n",
       "      <td>7513</td>\n",
       "      <td>Sales &amp; Marketing</td>\n",
       "      <td>region_19</td>\n",
       "      <td>Bachelor's</td>\n",
       "      <td>m</td>\n",
       "      <td>sourcing</td>\n",
       "      <td>1</td>\n",
       "      <td>34</td>\n",
       "      <td>3.0</td>\n",
       "      <td>7</td>\n",
       "      <td>0</td>\n",
       "      <td>0</td>\n",
       "      <td>50</td>\n",
       "      <td>0</td>\n",
       "    </tr>\n",
       "    <tr>\n",
       "      <th>3</th>\n",
       "      <td>2542</td>\n",
       "      <td>Sales &amp; Marketing</td>\n",
       "      <td>region_23</td>\n",
       "      <td>Bachelor's</td>\n",
       "      <td>m</td>\n",
       "      <td>other</td>\n",
       "      <td>2</td>\n",
       "      <td>39</td>\n",
       "      <td>1.0</td>\n",
       "      <td>10</td>\n",
       "      <td>0</td>\n",
       "      <td>0</td>\n",
       "      <td>50</td>\n",
       "      <td>0</td>\n",
       "    </tr>\n",
       "    <tr>\n",
       "      <th>4</th>\n",
       "      <td>48945</td>\n",
       "      <td>Technology</td>\n",
       "      <td>region_26</td>\n",
       "      <td>Bachelor's</td>\n",
       "      <td>m</td>\n",
       "      <td>other</td>\n",
       "      <td>1</td>\n",
       "      <td>45</td>\n",
       "      <td>3.0</td>\n",
       "      <td>2</td>\n",
       "      <td>0</td>\n",
       "      <td>0</td>\n",
       "      <td>73</td>\n",
       "      <td>0</td>\n",
       "    </tr>\n",
       "  </tbody>\n",
       "</table>\n",
       "</div>"
      ],
      "text/plain": [
       "   employee_id         department     region         education gender  \\\n",
       "0        65438  Sales & Marketing   region_7  Master's & above      f   \n",
       "1        65141         Operations  region_22        Bachelor's      m   \n",
       "2         7513  Sales & Marketing  region_19        Bachelor's      m   \n",
       "3         2542  Sales & Marketing  region_23        Bachelor's      m   \n",
       "4        48945         Technology  region_26        Bachelor's      m   \n",
       "\n",
       "  recruitment_channel  no_of_trainings  age  previous_year_rating  \\\n",
       "0            sourcing                1   35                   5.0   \n",
       "1               other                1   30                   5.0   \n",
       "2            sourcing                1   34                   3.0   \n",
       "3               other                2   39                   1.0   \n",
       "4               other                1   45                   3.0   \n",
       "\n",
       "   length_of_service  KPIs_met >80%  awards_won?  avg_training_score  \\\n",
       "0                  8              1            0                  49   \n",
       "1                  4              0            0                  60   \n",
       "2                  7              0            0                  50   \n",
       "3                 10              0            0                  50   \n",
       "4                  2              0            0                  73   \n",
       "\n",
       "   is_promoted  \n",
       "0            0  \n",
       "1            0  \n",
       "2            0  \n",
       "3            0  \n",
       "4            0  "
      ]
     },
     "execution_count": 2,
     "metadata": {},
     "output_type": "execute_result"
    }
   ],
   "source": [
    "data.head()"
   ]
  },
  {
   "cell_type": "code",
   "execution_count": 3,
   "metadata": {},
   "outputs": [
    {
     "name": "stdout",
     "output_type": "stream",
     "text": [
      "Pixiedust database opened successfully\n"
     ]
    },
    {
     "data": {
      "text/html": [
       "\n",
       "        <div style=\"margin:10px\">\n",
       "            <a href=\"https://github.com/ibm-watson-data-lab/pixiedust\" target=\"_new\">\n",
       "                <img src=\"https://github.com/ibm-watson-data-lab/pixiedust/raw/master/docs/_static/pd_icon32.png\" style=\"float:left;margin-right:10px\"/>\n",
       "            </a>\n",
       "            <span>Pixiedust version 1.1.17</span>\n",
       "        </div>\n",
       "        "
      ],
      "text/plain": [
       "<IPython.core.display.HTML object>"
      ]
     },
     "metadata": {},
     "output_type": "display_data"
    }
   ],
   "source": [
    "import pixiedust"
   ]
  },
  {
   "cell_type": "code",
   "execution_count": 4,
   "metadata": {
    "pixiedust": {
     "displayParams": {
      "chartsize": "60",
      "handlerId": "lineChart",
      "keyFields": "age",
      "title": "AGE_AWARDS",
      "valueFields": "awards_won?"
     }
    }
   },
   "outputs": [
    {
     "data": {
      "text/html": [
       "<style type=\"text/css\">.pd_warning{display:none;}</style><div class=\"pd_warning\"><em>Hey, there's something awesome here! To see it, open this notebook outside GitHub, in a viewer like Jupyter</em></div>\n",
       "        <div class=\"pd_save is-viewer-good\" style=\"padding-right:10px;text-align: center;line-height:initial !important;font-size: xx-large;font-weight: 500;color: coral;\">\n",
       "            AGE_AWARDS\n",
       "        </div>\n",
       "    <div id=\"chartFigure4baa4a55\" class=\"pd_save is-viewer-good\" style=\"overflow-x:auto\">\n",
       "            \n",
       "                    <script class=\"pd_save\">\n",
       "                    function setChartScript() {\n",
       "                        if (!window.Bokeh) {\n",
       "                            setTimeout(setChartScript, 250)\n",
       "                        } else {\n",
       "                            var d = document.getElementById(\"pd-bkchartdiv-4baa4a55\")\n",
       "                            if (d){\n",
       "                                var el = document.createElement('div')\n",
       "                                el.innerHTML = `\n",
       "<script type=\"text/javascript\">\n",
       "  (function() {\n",
       "    var fn = function() {\n",
       "      Bokeh.safely(function() {\n",
       "        (function(root) {\n",
       "          function embed_document(root) {\n",
       "            \n",
       "          var docs_json = '{\"13aa949a-bf33-46dc-a74c-a407334a3277\":{\"roots\":{\"references\":[{\"attributes\":{},\"id\":\"dcadbb49-aa55-49ac-a036-e829f5f2fa16\",\"type\":\"ResetTool\"},{\"attributes\":{\"bottom_units\":\"screen\",\"fill_alpha\":{\"value\":0.5},\"fill_color\":{\"value\":\"lightgrey\"},\"left_units\":\"screen\",\"level\":\"overlay\",\"line_alpha\":{\"value\":1.0},\"line_color\":{\"value\":\"black\"},\"line_dash\":[4,4],\"line_width\":{\"value\":2},\"plot\":null,\"render_mode\":\"css\",\"right_units\":\"screen\",\"top_units\":\"screen\"},\"id\":\"07468198-c606-449f-a2ac-64188dd5611a\",\"type\":\"BoxAnnotation\"},{\"attributes\":{},\"id\":\"6747b7c0-f1df-4195-baa5-23f555b53f3e\",\"type\":\"SaveTool\"},{\"attributes\":{\"dimension\":1,\"plot\":{\"id\":\"41cc35b5-8e72-4ffb-a96a-617215b366e5\",\"subtype\":\"Figure\",\"type\":\"Plot\"},\"ticker\":{\"id\":\"c1e8e910-ce18-4936-b751-24b70339b5d9\",\"type\":\"BasicTicker\"}},\"id\":\"2c86f3b3-7911-442b-9b82-81f5932985af\",\"type\":\"Grid\"},{\"attributes\":{\"active_drag\":\"auto\",\"active_inspect\":\"auto\",\"active_scroll\":\"auto\",\"active_tap\":\"auto\",\"tools\":[{\"id\":\"77bab9bb-01bc-4e66-b413-3b80dcdd1715\",\"type\":\"PanTool\"},{\"id\":\"6a3b846b-6dde-4414-a6a5-54c42428dd86\",\"type\":\"WheelZoomTool\"},{\"id\":\"a58f5cb8-08cc-4348-9864-f550b31a2b6b\",\"type\":\"BoxZoomTool\"},{\"id\":\"6747b7c0-f1df-4195-baa5-23f555b53f3e\",\"type\":\"SaveTool\"},{\"id\":\"dcadbb49-aa55-49ac-a036-e829f5f2fa16\",\"type\":\"ResetTool\"},{\"id\":\"58185b07-c34d-4d4c-819a-aba2ec4af7a9\",\"type\":\"HelpTool\"},{\"id\":\"57343f01-986d-4bac-95df-e6c146449fc7\",\"type\":\"HoverTool\"}]},\"id\":\"6f1bd171-75ce-4c6d-83b7-8e69cf2cd98c\",\"type\":\"Toolbar\"},{\"attributes\":{},\"id\":\"c1e8e910-ce18-4936-b751-24b70339b5d9\",\"type\":\"BasicTicker\"},{\"attributes\":{\"line_color\":\"#1f77b4\",\"line_width\":2,\"x\":{\"field\":\"x\"},\"y\":{\"field\":\"y\"}},\"id\":\"0b5d4974-a765-4c85-8f32-9f2366d3a839\",\"type\":\"Line\"},{\"attributes\":{\"source\":{\"id\":\"84293b3c-f817-43b0-852d-e8df75e857ba\",\"type\":\"ColumnDataSource\"}},\"id\":\"d8d8eaf6-1e09-4dc2-a8ce-ff8360307449\",\"type\":\"CDSView\"},{\"attributes\":{},\"id\":\"6a3b846b-6dde-4414-a6a5-54c42428dd86\",\"type\":\"WheelZoomTool\"},{\"attributes\":{\"line_alpha\":0.1,\"line_color\":\"#1f77b4\",\"line_width\":2,\"x\":{\"field\":\"x\"},\"y\":{\"field\":\"y\"}},\"id\":\"c95ae6fd-66b1-4253-b082-24b450c59a72\",\"type\":\"Line\"},{\"attributes\":{\"toolbar\":{\"id\":\"398fae3d-a6da-4729-ae6d-d24423db6e7a\",\"type\":\"ProxyToolbar\"},\"toolbar_location\":\"above\"},\"id\":\"9e0ab83e-5d5f-4427-af29-a17b1fdeb567\",\"type\":\"ToolbarBox\"},{\"attributes\":{},\"id\":\"35786a06-1d20-41c9-a0ff-4792133b5dd6\",\"type\":\"BasicTickFormatter\"},{\"attributes\":{},\"id\":\"77bab9bb-01bc-4e66-b413-3b80dcdd1715\",\"type\":\"PanTool\"},{\"attributes\":{\"callback\":null},\"id\":\"3c9de739-3f81-4909-8043-74625b8677e5\",\"type\":\"DataRange1d\"},{\"attributes\":{},\"id\":\"b32e7f51-d918-47c6-a32d-925eff4298ef\",\"type\":\"BasicTickFormatter\"},{\"attributes\":{},\"id\":\"2d83cdd4-ecb5-4040-8d59-e2d5776489c4\",\"type\":\"LinearScale\"},{\"attributes\":{\"label\":{\"value\":\"awards_won?\"},\"renderers\":[{\"id\":\"bd0e5c49-21ab-42d7-8d01-8fe7538f2296\",\"type\":\"GlyphRenderer\"}]},\"id\":\"7d6a21e9-2e39-41c2-a080-804e0f1c82f7\",\"type\":\"LegendItem\"},{\"attributes\":{},\"id\":\"877cbfca-68d1-42bc-91aa-1cfe533653c6\",\"type\":\"Selection\"},{\"attributes\":{\"callback\":null,\"data\":{\"x\":[20,21,22,23,24,25,26,27,28,29,30,31,32,33,34,35,36,37,38,39,40,41,42,43,44,45,46,47,48,49,50,51,52,53,54,55,56,57,58,59,60],\"y\":[2,3,4,8,18,28,42,76,87,70,85,100,81,77,64,79,52,56,48,37,37,44,17,16,11,17,14,12,9,10,9,11,7,7,3,6,7,6,0,4,6]},\"selected\":{\"id\":\"877cbfca-68d1-42bc-91aa-1cfe533653c6\",\"type\":\"Selection\"},\"selection_policy\":{\"id\":\"b39f2e9a-a3c4-422d-acc4-5ca626ec5517\",\"type\":\"UnionRenderers\"}},\"id\":\"84293b3c-f817-43b0-852d-e8df75e857ba\",\"type\":\"ColumnDataSource\"},{\"attributes\":{\"children\":[{\"id\":\"9e0ab83e-5d5f-4427-af29-a17b1fdeb567\",\"type\":\"ToolbarBox\"},{\"id\":\"0e4eaaf1-ac45-43e2-8072-661c72c83420\",\"type\":\"Column\"}]},\"id\":\"8c43b649-1600-46d9-8e39-a3e7590f5b81\",\"type\":\"Column\"},{\"attributes\":{},\"id\":\"9fa51af1-562b-411e-bc38-fe69d52d3291\",\"type\":\"BasicTicker\"},{\"attributes\":{\"items\":[{\"id\":\"7d6a21e9-2e39-41c2-a080-804e0f1c82f7\",\"type\":\"LegendItem\"}],\"location\":\"top_left\",\"plot\":{\"id\":\"41cc35b5-8e72-4ffb-a96a-617215b366e5\",\"subtype\":\"Figure\",\"type\":\"Plot\"}},\"id\":\"6218ac42-cf3d-4a66-b158-29da9b129ab7\",\"type\":\"Legend\"},{\"attributes\":{},\"id\":\"33f4cf0a-a023-4629-b8c5-2a152be371c4\",\"type\":\"LinearScale\"},{\"attributes\":{\"callback\":null,\"renderers\":\"auto\",\"tooltips\":[[\"age\",\"@x\"],[\"awards_won?\",\"@y{0.00}\"],[\"x\",\"$x\"],[\"y\",\"$y\"]]},\"id\":\"57343f01-986d-4bac-95df-e6c146449fc7\",\"type\":\"HoverTool\"},{\"attributes\":{\"axis_label\":\"awards_won?\",\"formatter\":{\"id\":\"b32e7f51-d918-47c6-a32d-925eff4298ef\",\"type\":\"BasicTickFormatter\"},\"plot\":{\"id\":\"41cc35b5-8e72-4ffb-a96a-617215b366e5\",\"subtype\":\"Figure\",\"type\":\"Plot\"},\"ticker\":{\"id\":\"c1e8e910-ce18-4936-b751-24b70339b5d9\",\"type\":\"BasicTicker\"}},\"id\":\"4a19dc0d-c092-4757-8ad9-d5d7e16d3921\",\"type\":\"LinearAxis\"},{\"attributes\":{\"data_source\":{\"id\":\"84293b3c-f817-43b0-852d-e8df75e857ba\",\"type\":\"ColumnDataSource\"},\"glyph\":{\"id\":\"0b5d4974-a765-4c85-8f32-9f2366d3a839\",\"type\":\"Line\"},\"hover_glyph\":null,\"muted_glyph\":null,\"nonselection_glyph\":{\"id\":\"c95ae6fd-66b1-4253-b082-24b450c59a72\",\"type\":\"Line\"},\"selection_glyph\":null,\"view\":{\"id\":\"d8d8eaf6-1e09-4dc2-a8ce-ff8360307449\",\"type\":\"CDSView\"}},\"id\":\"bd0e5c49-21ab-42d7-8d01-8fe7538f2296\",\"type\":\"GlyphRenderer\"},{\"attributes\":{\"tools\":[{\"id\":\"77bab9bb-01bc-4e66-b413-3b80dcdd1715\",\"type\":\"PanTool\"},{\"id\":\"6a3b846b-6dde-4414-a6a5-54c42428dd86\",\"type\":\"WheelZoomTool\"},{\"id\":\"a58f5cb8-08cc-4348-9864-f550b31a2b6b\",\"type\":\"BoxZoomTool\"},{\"id\":\"6747b7c0-f1df-4195-baa5-23f555b53f3e\",\"type\":\"SaveTool\"},{\"id\":\"dcadbb49-aa55-49ac-a036-e829f5f2fa16\",\"type\":\"ResetTool\"},{\"id\":\"58185b07-c34d-4d4c-819a-aba2ec4af7a9\",\"type\":\"HelpTool\"},{\"id\":\"57343f01-986d-4bac-95df-e6c146449fc7\",\"type\":\"HoverTool\"}]},\"id\":\"398fae3d-a6da-4729-ae6d-d24423db6e7a\",\"type\":\"ProxyToolbar\"},{\"attributes\":{},\"id\":\"b39f2e9a-a3c4-422d-acc4-5ca626ec5517\",\"type\":\"UnionRenderers\"},{\"attributes\":{\"plot\":{\"id\":\"41cc35b5-8e72-4ffb-a96a-617215b366e5\",\"subtype\":\"Figure\",\"type\":\"Plot\"},\"ticker\":{\"id\":\"9fa51af1-562b-411e-bc38-fe69d52d3291\",\"type\":\"BasicTicker\"}},\"id\":\"9f1fdabd-7d6b-4227-a208-765d0cac0a95\",\"type\":\"Grid\"},{\"attributes\":{\"axis_label\":\"age\",\"formatter\":{\"id\":\"35786a06-1d20-41c9-a0ff-4792133b5dd6\",\"type\":\"BasicTickFormatter\"},\"plot\":{\"id\":\"41cc35b5-8e72-4ffb-a96a-617215b366e5\",\"subtype\":\"Figure\",\"type\":\"Plot\"},\"ticker\":{\"id\":\"9fa51af1-562b-411e-bc38-fe69d52d3291\",\"type\":\"BasicTicker\"}},\"id\":\"891cc56c-8698-4b46-9e06-60d6d16a0f5a\",\"type\":\"LinearAxis\"},{\"attributes\":{\"callback\":null},\"id\":\"6eb3a0ad-6d6f-4835-b23a-abd84b1e1239\",\"type\":\"DataRange1d\"},{\"attributes\":{\"children\":[{\"id\":\"65c8d783-d76b-458b-9fa1-d1981f13ff4f\",\"type\":\"Row\"}]},\"id\":\"0e4eaaf1-ac45-43e2-8072-661c72c83420\",\"type\":\"Column\"},{\"attributes\":{\"children\":[{\"id\":\"41cc35b5-8e72-4ffb-a96a-617215b366e5\",\"subtype\":\"Figure\",\"type\":\"Plot\"}]},\"id\":\"65c8d783-d76b-458b-9fa1-d1981f13ff4f\",\"type\":\"Row\"},{\"attributes\":{},\"id\":\"58185b07-c34d-4d4c-819a-aba2ec4af7a9\",\"type\":\"HelpTool\"},{\"attributes\":{\"below\":[{\"id\":\"891cc56c-8698-4b46-9e06-60d6d16a0f5a\",\"type\":\"LinearAxis\"}],\"left\":[{\"id\":\"4a19dc0d-c092-4757-8ad9-d5d7e16d3921\",\"type\":\"LinearAxis\"}],\"plot_height\":358,\"plot_width\":479,\"renderers\":[{\"id\":\"891cc56c-8698-4b46-9e06-60d6d16a0f5a\",\"type\":\"LinearAxis\"},{\"id\":\"9f1fdabd-7d6b-4227-a208-765d0cac0a95\",\"type\":\"Grid\"},{\"id\":\"4a19dc0d-c092-4757-8ad9-d5d7e16d3921\",\"type\":\"LinearAxis\"},{\"id\":\"2c86f3b3-7911-442b-9b82-81f5932985af\",\"type\":\"Grid\"},{\"id\":\"07468198-c606-449f-a2ac-64188dd5611a\",\"type\":\"BoxAnnotation\"},{\"id\":\"6218ac42-cf3d-4a66-b158-29da9b129ab7\",\"type\":\"Legend\"},{\"id\":\"bd0e5c49-21ab-42d7-8d01-8fe7538f2296\",\"type\":\"GlyphRenderer\"}],\"title\":null,\"toolbar\":{\"id\":\"6f1bd171-75ce-4c6d-83b7-8e69cf2cd98c\",\"type\":\"Toolbar\"},\"toolbar_location\":null,\"x_range\":{\"id\":\"6eb3a0ad-6d6f-4835-b23a-abd84b1e1239\",\"type\":\"DataRange1d\"},\"x_scale\":{\"id\":\"2d83cdd4-ecb5-4040-8d59-e2d5776489c4\",\"type\":\"LinearScale\"},\"y_range\":{\"id\":\"3c9de739-3f81-4909-8043-74625b8677e5\",\"type\":\"DataRange1d\"},\"y_scale\":{\"id\":\"33f4cf0a-a023-4629-b8c5-2a152be371c4\",\"type\":\"LinearScale\"}},\"id\":\"41cc35b5-8e72-4ffb-a96a-617215b366e5\",\"subtype\":\"Figure\",\"type\":\"Plot\"},{\"attributes\":{\"overlay\":{\"id\":\"07468198-c606-449f-a2ac-64188dd5611a\",\"type\":\"BoxAnnotation\"}},\"id\":\"a58f5cb8-08cc-4348-9864-f550b31a2b6b\",\"type\":\"BoxZoomTool\"}],\"root_ids\":[\"8c43b649-1600-46d9-8e39-a3e7590f5b81\"]},\"title\":\"Bokeh Application\",\"version\":\"0.12.16\"}}';\n",
       "          var render_items = [{\"docid\":\"13aa949a-bf33-46dc-a74c-a407334a3277\",\"elementid\":\"b2b83516-1744-4c47-88f0-6cfbc04359ce\",\"modelid\":\"8c43b649-1600-46d9-8e39-a3e7590f5b81\"}];\n",
       "          root.Bokeh.embed.embed_items(docs_json, render_items);\n",
       "        \n",
       "          }\n",
       "          if (root.Bokeh !== undefined) {\n",
       "            embed_document(root);\n",
       "          } else {\n",
       "            var attempts = 0;\n",
       "            var timer = setInterval(function(root) {\n",
       "              if (root.Bokeh !== undefined) {\n",
       "                embed_document(root);\n",
       "                clearInterval(timer);\n",
       "              }\n",
       "              attempts++;\n",
       "              if (attempts > 100) {\n",
       "                console.log(\"Bokeh: ERROR: Unable to run BokehJS code because BokehJS library is missing\")\n",
       "                clearInterval(timer);\n",
       "              }\n",
       "            }, 10, root)\n",
       "          }\n",
       "        })(window);\n",
       "      });\n",
       "    };\n",
       "    if (document.readyState != \"loading\") fn();\n",
       "    else document.addEventListener(\"DOMContentLoaded\", fn);\n",
       "  })();\n",
       "<\\/script>`\n",
       "                                var chartscript = el.childNodes[1]\n",
       "                                var s = document.createElement(\"script\")\n",
       "                                s.innerHTML = chartscript.innerHTML\n",
       "                                d.parentNode.insertBefore(s, d)\n",
       "                            }\n",
       "                        }\n",
       "                    }\n",
       "                    if (!window.Bokeh && !window.autoload){\n",
       "                        window.autoload=true;\n",
       "                        \n",
       "(function(root) {\n",
       "  function now() {\n",
       "    return new Date();\n",
       "  }\n",
       "\n",
       "  var force = 1;\n",
       "\n",
       "  if (typeof (root._bokeh_onload_callbacks) === \"undefined\" || force === true) {\n",
       "    root._bokeh_onload_callbacks = [];\n",
       "    root._bokeh_is_loading = undefined;\n",
       "  }\n",
       "\n",
       "  \n",
       "\n",
       "  \n",
       "  if (typeof (root._bokeh_timeout) === \"undefined\" || force === true) {\n",
       "    root._bokeh_timeout = Date.now() + 5000;\n",
       "    root._bokeh_failed_load = false;\n",
       "  }\n",
       "\n",
       "  var NB_LOAD_WARNING = {'data': {'text/html':\n",
       "     \"<div style='background-color: #fdd'>\\n\"+\n",
       "     \"<p>\\n\"+\n",
       "     \"BokehJS does not appear to have successfully loaded. If loading BokehJS from CDN, this \\n\"+\n",
       "     \"may be due to a slow or bad network connection. Possible fixes:\\n\"+\n",
       "     \"</p>\\n\"+\n",
       "     \"<ul>\\n\"+\n",
       "     \"<li>re-rerun `output_notebook()` to attempt to load from CDN again, or</li>\\n\"+\n",
       "     \"<li>use INLINE resources instead, as so:</li>\\n\"+\n",
       "     \"</ul>\\n\"+\n",
       "     \"<code>\\n\"+\n",
       "     \"from bokeh.resources import INLINE\\n\"+\n",
       "     \"output_notebook(resources=INLINE)\\n\"+\n",
       "     \"</code>\\n\"+\n",
       "     \"</div>\"}};\n",
       "\n",
       "  function display_loaded() {\n",
       "    var el = document.getElementById(\"\");\n",
       "    if (el != null) {\n",
       "      el.textContent = \"BokehJS is loading...\";\n",
       "    }\n",
       "    if (root.Bokeh !== undefined) {\n",
       "      if (el != null) {\n",
       "        el.textContent = \"BokehJS \" + root.Bokeh.version + \" successfully loaded.\";\n",
       "      }\n",
       "    } else if (Date.now() < root._bokeh_timeout) {\n",
       "      setTimeout(display_loaded, 100)\n",
       "    }\n",
       "  }\n",
       "\n",
       "\n",
       "  function run_callbacks() {\n",
       "    try {\n",
       "      root._bokeh_onload_callbacks.forEach(function(callback) { callback() });\n",
       "    }\n",
       "    finally {\n",
       "      delete root._bokeh_onload_callbacks\n",
       "    }\n",
       "    console.info(\"Bokeh: all callbacks have finished\");\n",
       "  }\n",
       "\n",
       "  function load_libs(js_urls, callback) {\n",
       "    root._bokeh_onload_callbacks.push(callback);\n",
       "    if (root._bokeh_is_loading > 0) {\n",
       "      console.log(\"Bokeh: BokehJS is being loaded, scheduling callback at\", now());\n",
       "      return null;\n",
       "    }\n",
       "    if (js_urls == null || js_urls.length === 0) {\n",
       "      run_callbacks();\n",
       "      return null;\n",
       "    }\n",
       "    console.log(\"Bokeh: BokehJS not loaded, scheduling load and callback at\", now());\n",
       "    root._bokeh_is_loading = js_urls.length;\n",
       "    for (var i = 0; i < js_urls.length; i++) {\n",
       "      var url = js_urls[i];\n",
       "      var s = document.createElement('script');\n",
       "      s.src = url;\n",
       "      s.async = false;\n",
       "      s.onreadystatechange = s.onload = function() {\n",
       "        root._bokeh_is_loading--;\n",
       "        if (root._bokeh_is_loading === 0) {\n",
       "          console.log(\"Bokeh: all BokehJS libraries loaded\");\n",
       "          run_callbacks()\n",
       "        }\n",
       "      };\n",
       "      s.onerror = function() {\n",
       "        console.warn(\"failed to load library \" + url);\n",
       "      };\n",
       "      console.log(\"Bokeh: injecting script tag for BokehJS library: \", url);\n",
       "      document.getElementsByTagName(\"head\")[0].appendChild(s);\n",
       "    }\n",
       "  };\n",
       "\n",
       "  var js_urls = [\"https://cdn.pydata.org/bokeh/release/bokeh-0.12.16.min.js\", \"https://cdn.pydata.org/bokeh/release/bokeh-widgets-0.12.16.min.js\", \"https://cdn.pydata.org/bokeh/release/bokeh-tables-0.12.16.min.js\", \"https://cdn.pydata.org/bokeh/release/bokeh-gl-0.12.16.min.js\"];\n",
       "\n",
       "  var inline_js = [\n",
       "    function(Bokeh) {\n",
       "      Bokeh.set_log_level(\"info\");\n",
       "    },\n",
       "    function(Bokeh) {\n",
       "      console.log(\"Bokeh: injecting CSS: https://cdn.pydata.org/bokeh/release/bokeh-0.12.16.min.css\");\n",
       "      Bokeh.embed.inject_css(\"https://cdn.pydata.org/bokeh/release/bokeh-0.12.16.min.css\");\n",
       "      console.log(\"Bokeh: injecting CSS: https://cdn.pydata.org/bokeh/release/bokeh-widgets-0.12.16.min.css\");\n",
       "      Bokeh.embed.inject_css(\"https://cdn.pydata.org/bokeh/release/bokeh-widgets-0.12.16.min.css\");\n",
       "      console.log(\"Bokeh: injecting CSS: https://cdn.pydata.org/bokeh/release/bokeh-tables-0.12.16.min.css\");\n",
       "      Bokeh.embed.inject_css(\"https://cdn.pydata.org/bokeh/release/bokeh-tables-0.12.16.min.css\");\n",
       "    }\n",
       "  ];\n",
       "\n",
       "  function run_inline_js() {\n",
       "    \n",
       "    if ((root.Bokeh !== undefined) || (force === true)) {\n",
       "      for (var i = 0; i < inline_js.length; i++) {\n",
       "        inline_js[i].call(root, root.Bokeh);\n",
       "      }} else if (Date.now() < root._bokeh_timeout) {\n",
       "      setTimeout(run_inline_js, 100);\n",
       "    } else if (!root._bokeh_failed_load) {\n",
       "      console.log(\"Bokeh: BokehJS failed to load within specified timeout.\");\n",
       "      root._bokeh_failed_load = true;\n",
       "    } else if (force !== true) {\n",
       "      var cell = $(document.getElementById(\"\")).parents('.cell').data().cell;\n",
       "      cell.output_area.append_execute_result(NB_LOAD_WARNING)\n",
       "    }\n",
       "\n",
       "  }\n",
       "\n",
       "  if (root._bokeh_is_loading === 0) {\n",
       "    console.log(\"Bokeh: BokehJS loaded, going straight to plotting\");\n",
       "    run_inline_js();\n",
       "  } else {\n",
       "    load_libs(js_urls, function() {\n",
       "      console.log(\"Bokeh: BokehJS plotting callback run at\", now());\n",
       "      run_inline_js();\n",
       "    });\n",
       "  }\n",
       "}(window));\n",
       "                    }\n",
       "                    setChartScript()\n",
       "                    </script>\n",
       "                    <script>\n",
       "  (function() {\n",
       "    var fn = function() {\n",
       "      Bokeh.safely(function() {\n",
       "        (function(root) {\n",
       "          function embed_document(root) {\n",
       "            \n",
       "          var docs_json = '{\"13aa949a-bf33-46dc-a74c-a407334a3277\":{\"roots\":{\"references\":[{\"attributes\":{},\"id\":\"dcadbb49-aa55-49ac-a036-e829f5f2fa16\",\"type\":\"ResetTool\"},{\"attributes\":{\"bottom_units\":\"screen\",\"fill_alpha\":{\"value\":0.5},\"fill_color\":{\"value\":\"lightgrey\"},\"left_units\":\"screen\",\"level\":\"overlay\",\"line_alpha\":{\"value\":1.0},\"line_color\":{\"value\":\"black\"},\"line_dash\":[4,4],\"line_width\":{\"value\":2},\"plot\":null,\"render_mode\":\"css\",\"right_units\":\"screen\",\"top_units\":\"screen\"},\"id\":\"07468198-c606-449f-a2ac-64188dd5611a\",\"type\":\"BoxAnnotation\"},{\"attributes\":{},\"id\":\"6747b7c0-f1df-4195-baa5-23f555b53f3e\",\"type\":\"SaveTool\"},{\"attributes\":{\"dimension\":1,\"plot\":{\"id\":\"41cc35b5-8e72-4ffb-a96a-617215b366e5\",\"subtype\":\"Figure\",\"type\":\"Plot\"},\"ticker\":{\"id\":\"c1e8e910-ce18-4936-b751-24b70339b5d9\",\"type\":\"BasicTicker\"}},\"id\":\"2c86f3b3-7911-442b-9b82-81f5932985af\",\"type\":\"Grid\"},{\"attributes\":{\"active_drag\":\"auto\",\"active_inspect\":\"auto\",\"active_scroll\":\"auto\",\"active_tap\":\"auto\",\"tools\":[{\"id\":\"77bab9bb-01bc-4e66-b413-3b80dcdd1715\",\"type\":\"PanTool\"},{\"id\":\"6a3b846b-6dde-4414-a6a5-54c42428dd86\",\"type\":\"WheelZoomTool\"},{\"id\":\"a58f5cb8-08cc-4348-9864-f550b31a2b6b\",\"type\":\"BoxZoomTool\"},{\"id\":\"6747b7c0-f1df-4195-baa5-23f555b53f3e\",\"type\":\"SaveTool\"},{\"id\":\"dcadbb49-aa55-49ac-a036-e829f5f2fa16\",\"type\":\"ResetTool\"},{\"id\":\"58185b07-c34d-4d4c-819a-aba2ec4af7a9\",\"type\":\"HelpTool\"},{\"id\":\"57343f01-986d-4bac-95df-e6c146449fc7\",\"type\":\"HoverTool\"}]},\"id\":\"6f1bd171-75ce-4c6d-83b7-8e69cf2cd98c\",\"type\":\"Toolbar\"},{\"attributes\":{},\"id\":\"c1e8e910-ce18-4936-b751-24b70339b5d9\",\"type\":\"BasicTicker\"},{\"attributes\":{\"line_color\":\"#1f77b4\",\"line_width\":2,\"x\":{\"field\":\"x\"},\"y\":{\"field\":\"y\"}},\"id\":\"0b5d4974-a765-4c85-8f32-9f2366d3a839\",\"type\":\"Line\"},{\"attributes\":{\"source\":{\"id\":\"84293b3c-f817-43b0-852d-e8df75e857ba\",\"type\":\"ColumnDataSource\"}},\"id\":\"d8d8eaf6-1e09-4dc2-a8ce-ff8360307449\",\"type\":\"CDSView\"},{\"attributes\":{},\"id\":\"6a3b846b-6dde-4414-a6a5-54c42428dd86\",\"type\":\"WheelZoomTool\"},{\"attributes\":{\"line_alpha\":0.1,\"line_color\":\"#1f77b4\",\"line_width\":2,\"x\":{\"field\":\"x\"},\"y\":{\"field\":\"y\"}},\"id\":\"c95ae6fd-66b1-4253-b082-24b450c59a72\",\"type\":\"Line\"},{\"attributes\":{\"toolbar\":{\"id\":\"398fae3d-a6da-4729-ae6d-d24423db6e7a\",\"type\":\"ProxyToolbar\"},\"toolbar_location\":\"above\"},\"id\":\"9e0ab83e-5d5f-4427-af29-a17b1fdeb567\",\"type\":\"ToolbarBox\"},{\"attributes\":{},\"id\":\"35786a06-1d20-41c9-a0ff-4792133b5dd6\",\"type\":\"BasicTickFormatter\"},{\"attributes\":{},\"id\":\"77bab9bb-01bc-4e66-b413-3b80dcdd1715\",\"type\":\"PanTool\"},{\"attributes\":{\"callback\":null},\"id\":\"3c9de739-3f81-4909-8043-74625b8677e5\",\"type\":\"DataRange1d\"},{\"attributes\":{},\"id\":\"b32e7f51-d918-47c6-a32d-925eff4298ef\",\"type\":\"BasicTickFormatter\"},{\"attributes\":{},\"id\":\"2d83cdd4-ecb5-4040-8d59-e2d5776489c4\",\"type\":\"LinearScale\"},{\"attributes\":{\"label\":{\"value\":\"awards_won?\"},\"renderers\":[{\"id\":\"bd0e5c49-21ab-42d7-8d01-8fe7538f2296\",\"type\":\"GlyphRenderer\"}]},\"id\":\"7d6a21e9-2e39-41c2-a080-804e0f1c82f7\",\"type\":\"LegendItem\"},{\"attributes\":{},\"id\":\"877cbfca-68d1-42bc-91aa-1cfe533653c6\",\"type\":\"Selection\"},{\"attributes\":{\"callback\":null,\"data\":{\"x\":[20,21,22,23,24,25,26,27,28,29,30,31,32,33,34,35,36,37,38,39,40,41,42,43,44,45,46,47,48,49,50,51,52,53,54,55,56,57,58,59,60],\"y\":[2,3,4,8,18,28,42,76,87,70,85,100,81,77,64,79,52,56,48,37,37,44,17,16,11,17,14,12,9,10,9,11,7,7,3,6,7,6,0,4,6]},\"selected\":{\"id\":\"877cbfca-68d1-42bc-91aa-1cfe533653c6\",\"type\":\"Selection\"},\"selection_policy\":{\"id\":\"b39f2e9a-a3c4-422d-acc4-5ca626ec5517\",\"type\":\"UnionRenderers\"}},\"id\":\"84293b3c-f817-43b0-852d-e8df75e857ba\",\"type\":\"ColumnDataSource\"},{\"attributes\":{\"children\":[{\"id\":\"9e0ab83e-5d5f-4427-af29-a17b1fdeb567\",\"type\":\"ToolbarBox\"},{\"id\":\"0e4eaaf1-ac45-43e2-8072-661c72c83420\",\"type\":\"Column\"}]},\"id\":\"8c43b649-1600-46d9-8e39-a3e7590f5b81\",\"type\":\"Column\"},{\"attributes\":{},\"id\":\"9fa51af1-562b-411e-bc38-fe69d52d3291\",\"type\":\"BasicTicker\"},{\"attributes\":{\"items\":[{\"id\":\"7d6a21e9-2e39-41c2-a080-804e0f1c82f7\",\"type\":\"LegendItem\"}],\"location\":\"top_left\",\"plot\":{\"id\":\"41cc35b5-8e72-4ffb-a96a-617215b366e5\",\"subtype\":\"Figure\",\"type\":\"Plot\"}},\"id\":\"6218ac42-cf3d-4a66-b158-29da9b129ab7\",\"type\":\"Legend\"},{\"attributes\":{},\"id\":\"33f4cf0a-a023-4629-b8c5-2a152be371c4\",\"type\":\"LinearScale\"},{\"attributes\":{\"callback\":null,\"renderers\":\"auto\",\"tooltips\":[[\"age\",\"@x\"],[\"awards_won?\",\"@y{0.00}\"],[\"x\",\"$x\"],[\"y\",\"$y\"]]},\"id\":\"57343f01-986d-4bac-95df-e6c146449fc7\",\"type\":\"HoverTool\"},{\"attributes\":{\"axis_label\":\"awards_won?\",\"formatter\":{\"id\":\"b32e7f51-d918-47c6-a32d-925eff4298ef\",\"type\":\"BasicTickFormatter\"},\"plot\":{\"id\":\"41cc35b5-8e72-4ffb-a96a-617215b366e5\",\"subtype\":\"Figure\",\"type\":\"Plot\"},\"ticker\":{\"id\":\"c1e8e910-ce18-4936-b751-24b70339b5d9\",\"type\":\"BasicTicker\"}},\"id\":\"4a19dc0d-c092-4757-8ad9-d5d7e16d3921\",\"type\":\"LinearAxis\"},{\"attributes\":{\"data_source\":{\"id\":\"84293b3c-f817-43b0-852d-e8df75e857ba\",\"type\":\"ColumnDataSource\"},\"glyph\":{\"id\":\"0b5d4974-a765-4c85-8f32-9f2366d3a839\",\"type\":\"Line\"},\"hover_glyph\":null,\"muted_glyph\":null,\"nonselection_glyph\":{\"id\":\"c95ae6fd-66b1-4253-b082-24b450c59a72\",\"type\":\"Line\"},\"selection_glyph\":null,\"view\":{\"id\":\"d8d8eaf6-1e09-4dc2-a8ce-ff8360307449\",\"type\":\"CDSView\"}},\"id\":\"bd0e5c49-21ab-42d7-8d01-8fe7538f2296\",\"type\":\"GlyphRenderer\"},{\"attributes\":{\"tools\":[{\"id\":\"77bab9bb-01bc-4e66-b413-3b80dcdd1715\",\"type\":\"PanTool\"},{\"id\":\"6a3b846b-6dde-4414-a6a5-54c42428dd86\",\"type\":\"WheelZoomTool\"},{\"id\":\"a58f5cb8-08cc-4348-9864-f550b31a2b6b\",\"type\":\"BoxZoomTool\"},{\"id\":\"6747b7c0-f1df-4195-baa5-23f555b53f3e\",\"type\":\"SaveTool\"},{\"id\":\"dcadbb49-aa55-49ac-a036-e829f5f2fa16\",\"type\":\"ResetTool\"},{\"id\":\"58185b07-c34d-4d4c-819a-aba2ec4af7a9\",\"type\":\"HelpTool\"},{\"id\":\"57343f01-986d-4bac-95df-e6c146449fc7\",\"type\":\"HoverTool\"}]},\"id\":\"398fae3d-a6da-4729-ae6d-d24423db6e7a\",\"type\":\"ProxyToolbar\"},{\"attributes\":{},\"id\":\"b39f2e9a-a3c4-422d-acc4-5ca626ec5517\",\"type\":\"UnionRenderers\"},{\"attributes\":{\"plot\":{\"id\":\"41cc35b5-8e72-4ffb-a96a-617215b366e5\",\"subtype\":\"Figure\",\"type\":\"Plot\"},\"ticker\":{\"id\":\"9fa51af1-562b-411e-bc38-fe69d52d3291\",\"type\":\"BasicTicker\"}},\"id\":\"9f1fdabd-7d6b-4227-a208-765d0cac0a95\",\"type\":\"Grid\"},{\"attributes\":{\"axis_label\":\"age\",\"formatter\":{\"id\":\"35786a06-1d20-41c9-a0ff-4792133b5dd6\",\"type\":\"BasicTickFormatter\"},\"plot\":{\"id\":\"41cc35b5-8e72-4ffb-a96a-617215b366e5\",\"subtype\":\"Figure\",\"type\":\"Plot\"},\"ticker\":{\"id\":\"9fa51af1-562b-411e-bc38-fe69d52d3291\",\"type\":\"BasicTicker\"}},\"id\":\"891cc56c-8698-4b46-9e06-60d6d16a0f5a\",\"type\":\"LinearAxis\"},{\"attributes\":{\"callback\":null},\"id\":\"6eb3a0ad-6d6f-4835-b23a-abd84b1e1239\",\"type\":\"DataRange1d\"},{\"attributes\":{\"children\":[{\"id\":\"65c8d783-d76b-458b-9fa1-d1981f13ff4f\",\"type\":\"Row\"}]},\"id\":\"0e4eaaf1-ac45-43e2-8072-661c72c83420\",\"type\":\"Column\"},{\"attributes\":{\"children\":[{\"id\":\"41cc35b5-8e72-4ffb-a96a-617215b366e5\",\"subtype\":\"Figure\",\"type\":\"Plot\"}]},\"id\":\"65c8d783-d76b-458b-9fa1-d1981f13ff4f\",\"type\":\"Row\"},{\"attributes\":{},\"id\":\"58185b07-c34d-4d4c-819a-aba2ec4af7a9\",\"type\":\"HelpTool\"},{\"attributes\":{\"below\":[{\"id\":\"891cc56c-8698-4b46-9e06-60d6d16a0f5a\",\"type\":\"LinearAxis\"}],\"left\":[{\"id\":\"4a19dc0d-c092-4757-8ad9-d5d7e16d3921\",\"type\":\"LinearAxis\"}],\"plot_height\":358,\"plot_width\":479,\"renderers\":[{\"id\":\"891cc56c-8698-4b46-9e06-60d6d16a0f5a\",\"type\":\"LinearAxis\"},{\"id\":\"9f1fdabd-7d6b-4227-a208-765d0cac0a95\",\"type\":\"Grid\"},{\"id\":\"4a19dc0d-c092-4757-8ad9-d5d7e16d3921\",\"type\":\"LinearAxis\"},{\"id\":\"2c86f3b3-7911-442b-9b82-81f5932985af\",\"type\":\"Grid\"},{\"id\":\"07468198-c606-449f-a2ac-64188dd5611a\",\"type\":\"BoxAnnotation\"},{\"id\":\"6218ac42-cf3d-4a66-b158-29da9b129ab7\",\"type\":\"Legend\"},{\"id\":\"bd0e5c49-21ab-42d7-8d01-8fe7538f2296\",\"type\":\"GlyphRenderer\"}],\"title\":null,\"toolbar\":{\"id\":\"6f1bd171-75ce-4c6d-83b7-8e69cf2cd98c\",\"type\":\"Toolbar\"},\"toolbar_location\":null,\"x_range\":{\"id\":\"6eb3a0ad-6d6f-4835-b23a-abd84b1e1239\",\"type\":\"DataRange1d\"},\"x_scale\":{\"id\":\"2d83cdd4-ecb5-4040-8d59-e2d5776489c4\",\"type\":\"LinearScale\"},\"y_range\":{\"id\":\"3c9de739-3f81-4909-8043-74625b8677e5\",\"type\":\"DataRange1d\"},\"y_scale\":{\"id\":\"33f4cf0a-a023-4629-b8c5-2a152be371c4\",\"type\":\"LinearScale\"}},\"id\":\"41cc35b5-8e72-4ffb-a96a-617215b366e5\",\"subtype\":\"Figure\",\"type\":\"Plot\"},{\"attributes\":{\"overlay\":{\"id\":\"07468198-c606-449f-a2ac-64188dd5611a\",\"type\":\"BoxAnnotation\"}},\"id\":\"a58f5cb8-08cc-4348-9864-f550b31a2b6b\",\"type\":\"BoxZoomTool\"}],\"root_ids\":[\"8c43b649-1600-46d9-8e39-a3e7590f5b81\"]},\"title\":\"Bokeh Application\",\"version\":\"0.12.16\"}}';\n",
       "          var render_items = [{\"docid\":\"13aa949a-bf33-46dc-a74c-a407334a3277\",\"elementid\":\"b2b83516-1744-4c47-88f0-6cfbc04359ce\",\"modelid\":\"8c43b649-1600-46d9-8e39-a3e7590f5b81\"}];\n",
       "          root.Bokeh.embed.embed_items(docs_json, render_items);\n",
       "        \n",
       "          }\n",
       "          if (root.Bokeh !== undefined) {\n",
       "            embed_document(root);\n",
       "          } else {\n",
       "            var attempts = 0;\n",
       "            var timer = setInterval(function(root) {\n",
       "              if (root.Bokeh !== undefined) {\n",
       "                embed_document(root);\n",
       "                clearInterval(timer);\n",
       "              }\n",
       "              attempts++;\n",
       "              if (attempts > 100) {\n",
       "                console.log(\"Bokeh: ERROR: Unable to run BokehJS code because BokehJS library is missing\")\n",
       "                clearInterval(timer);\n",
       "              }\n",
       "            }, 10, root)\n",
       "          }\n",
       "        })(window);\n",
       "      });\n",
       "    };\n",
       "    if (document.readyState != \"loading\") fn();\n",
       "    else document.addEventListener(\"DOMContentLoaded\", fn);\n",
       "  })();\n",
       "</script><div style=\"padding:5px\" id=\"pd-bkchartdiv-4baa4a55\">\n",
       "<div class=\"bk-root\">\n",
       "    <div class=\"bk-plotdiv\" id=\"b2b83516-1744-4c47-88f0-6cfbc04359ce\"></div>\n",
       "</div></div>\n",
       "                    \n",
       "                \n",
       "        </div>"
      ],
      "text/plain": [
       "<IPython.core.display.HTML object>"
      ]
     },
     "metadata": {},
     "output_type": "display_data"
    }
   ],
   "source": [
    "display(data)"
   ]
  },
  {
   "cell_type": "code",
   "execution_count": 5,
   "metadata": {},
   "outputs": [],
   "source": [
    "data = data.drop(['region','employee_id'],axis =1)"
   ]
  },
  {
   "cell_type": "code",
   "execution_count": 6,
   "metadata": {},
   "outputs": [
    {
     "data": {
      "text/plain": [
       "Index(['department', 'education', 'gender', 'recruitment_channel',\n",
       "       'no_of_trainings', 'age', 'previous_year_rating', 'length_of_service',\n",
       "       'KPIs_met >80%', 'awards_won?', 'avg_training_score', 'is_promoted'],\n",
       "      dtype='object')"
      ]
     },
     "execution_count": 6,
     "metadata": {},
     "output_type": "execute_result"
    }
   ],
   "source": [
    "data.columns"
   ]
  },
  {
   "cell_type": "code",
   "execution_count": 7,
   "metadata": {},
   "outputs": [
    {
     "data": {
      "text/plain": [
       "(54808, 12)"
      ]
     },
     "execution_count": 7,
     "metadata": {},
     "output_type": "execute_result"
    }
   ],
   "source": [
    "data.shape"
   ]
  },
  {
   "cell_type": "code",
   "execution_count": 8,
   "metadata": {},
   "outputs": [
    {
     "data": {
      "text/plain": [
       "department                 0\n",
       "education               2409\n",
       "gender                     0\n",
       "recruitment_channel        0\n",
       "no_of_trainings            0\n",
       "age                        0\n",
       "previous_year_rating    4124\n",
       "length_of_service          0\n",
       "KPIs_met >80%              0\n",
       "awards_won?                0\n",
       "avg_training_score         0\n",
       "is_promoted                0\n",
       "dtype: int64"
      ]
     },
     "execution_count": 8,
     "metadata": {},
     "output_type": "execute_result"
    }
   ],
   "source": [
    "data.isna().sum()"
   ]
  },
  {
   "cell_type": "code",
   "execution_count": 10,
   "metadata": {},
   "outputs": [
    {
     "data": {
      "text/plain": [
       "department              0\n",
       "education               0\n",
       "gender                  0\n",
       "recruitment_channel     0\n",
       "no_of_trainings         0\n",
       "age                     0\n",
       "previous_year_rating    0\n",
       "length_of_service       0\n",
       "KPIs_met >80%           0\n",
       "awards_won?             0\n",
       "avg_training_score      0\n",
       "is_promoted             0\n",
       "dtype: int64"
      ]
     },
     "execution_count": 10,
     "metadata": {},
     "output_type": "execute_result"
    }
   ],
   "source": [
    "data[\"education\"].fillna( method ='ffill', inplace = True)\n",
    "data = data.fillna(data.mean())\n",
    "data.isna().sum()"
   ]
  },
  {
   "cell_type": "code",
   "execution_count": null,
   "metadata": {},
   "outputs": [],
   "source": [
    "#data = data.dropna()"
   ]
  },
  {
   "cell_type": "code",
   "execution_count": 11,
   "metadata": {},
   "outputs": [
    {
     "data": {
      "text/plain": [
       "(54808, 12)"
      ]
     },
     "execution_count": 11,
     "metadata": {},
     "output_type": "execute_result"
    }
   ],
   "source": [
    "data.shape"
   ]
  },
  {
   "cell_type": "code",
   "execution_count": 12,
   "metadata": {},
   "outputs": [
    {
     "data": {
      "text/plain": [
       "department               object\n",
       "education                object\n",
       "gender                   object\n",
       "recruitment_channel      object\n",
       "no_of_trainings           int64\n",
       "age                       int64\n",
       "previous_year_rating    float64\n",
       "length_of_service         int64\n",
       "KPIs_met >80%             int64\n",
       "awards_won?               int64\n",
       "avg_training_score        int64\n",
       "is_promoted               int64\n",
       "dtype: object"
      ]
     },
     "execution_count": 12,
     "metadata": {},
     "output_type": "execute_result"
    }
   ],
   "source": [
    "data.dtypes"
   ]
  },
  {
   "cell_type": "code",
   "execution_count": 13,
   "metadata": {},
   "outputs": [],
   "source": [
    "from sklearn.preprocessing import LabelEncoder, OneHotEncoder"
   ]
  },
  {
   "cell_type": "code",
   "execution_count": 14,
   "metadata": {},
   "outputs": [
    {
     "data": {
      "text/plain": [
       "['department', 'education', 'gender', 'recruitment_channel']"
      ]
     },
     "execution_count": 14,
     "metadata": {},
     "output_type": "execute_result"
    }
   ],
   "source": [
    "# Categorical boolean mask\n",
    "categorical_feature_mask = data.dtypes==object\n",
    "# filter categorical columns using mask and turn it into a list\n",
    "categorical_cols = data.columns[categorical_feature_mask].tolist()\n",
    "categorical_cols"
   ]
  },
  {
   "cell_type": "code",
   "execution_count": 15,
   "metadata": {},
   "outputs": [
    {
     "name": "stdout",
     "output_type": "stream",
     "text": [
      "3\n",
      "9\n",
      "3\n",
      "2\n"
     ]
    }
   ],
   "source": [
    "#['department', 'region', 'education', 'gender', 'recruitment_channel']\n",
    "print(data['recruitment_channel'].nunique())\n",
    "print(data['department'].nunique())\n",
    "print(data['education'].nunique())\n",
    "print(data['gender'].nunique())"
   ]
  },
  {
   "cell_type": "code",
   "execution_count": 16,
   "metadata": {},
   "outputs": [
    {
     "name": "stdout",
     "output_type": "stream",
     "text": [
      "['Sales & Marketing' 'Operations' 'Technology' 'Analytics' 'R&D'\n",
      " 'Procurement' 'Finance' 'HR' 'Legal']\n",
      "['sourcing' 'other' 'referred']\n",
      "[\"Master's & above\" \"Bachelor's\" 'Below Secondary']\n",
      "['f' 'm']\n"
     ]
    }
   ],
   "source": [
    "print(data['department'].unique())\n",
    "print(data['recruitment_channel'].unique())\n",
    "print(data['education'].unique())\n",
    "print(data['gender'].unique())"
   ]
  },
  {
   "cell_type": "code",
   "execution_count": 17,
   "metadata": {},
   "outputs": [
    {
     "data": {
      "text/html": [
       "<div>\n",
       "<style scoped>\n",
       "    .dataframe tbody tr th:only-of-type {\n",
       "        vertical-align: middle;\n",
       "    }\n",
       "\n",
       "    .dataframe tbody tr th {\n",
       "        vertical-align: top;\n",
       "    }\n",
       "\n",
       "    .dataframe thead th {\n",
       "        text-align: right;\n",
       "    }\n",
       "</style>\n",
       "<table border=\"1\" class=\"dataframe\">\n",
       "  <thead>\n",
       "    <tr style=\"text-align: right;\">\n",
       "      <th></th>\n",
       "      <th>department</th>\n",
       "      <th>education</th>\n",
       "      <th>gender</th>\n",
       "      <th>recruitment_channel</th>\n",
       "      <th>no_of_trainings</th>\n",
       "      <th>age</th>\n",
       "      <th>previous_year_rating</th>\n",
       "      <th>length_of_service</th>\n",
       "      <th>KPIs_met &gt;80%</th>\n",
       "      <th>awards_won?</th>\n",
       "      <th>avg_training_score</th>\n",
       "      <th>is_promoted</th>\n",
       "    </tr>\n",
       "  </thead>\n",
       "  <tbody>\n",
       "    <tr>\n",
       "      <th>0</th>\n",
       "      <td>Sales &amp; Marketing</td>\n",
       "      <td>Master's &amp; above</td>\n",
       "      <td>0</td>\n",
       "      <td>sourcing</td>\n",
       "      <td>1</td>\n",
       "      <td>35</td>\n",
       "      <td>5.0</td>\n",
       "      <td>8</td>\n",
       "      <td>1</td>\n",
       "      <td>0</td>\n",
       "      <td>49</td>\n",
       "      <td>0</td>\n",
       "    </tr>\n",
       "    <tr>\n",
       "      <th>1</th>\n",
       "      <td>Operations</td>\n",
       "      <td>Bachelor's</td>\n",
       "      <td>1</td>\n",
       "      <td>other</td>\n",
       "      <td>1</td>\n",
       "      <td>30</td>\n",
       "      <td>5.0</td>\n",
       "      <td>4</td>\n",
       "      <td>0</td>\n",
       "      <td>0</td>\n",
       "      <td>60</td>\n",
       "      <td>0</td>\n",
       "    </tr>\n",
       "  </tbody>\n",
       "</table>\n",
       "</div>"
      ],
      "text/plain": [
       "          department         education  gender recruitment_channel  \\\n",
       "0  Sales & Marketing  Master's & above       0            sourcing   \n",
       "1         Operations        Bachelor's       1               other   \n",
       "\n",
       "   no_of_trainings  age  previous_year_rating  length_of_service  \\\n",
       "0                1   35                   5.0                  8   \n",
       "1                1   30                   5.0                  4   \n",
       "\n",
       "   KPIs_met >80%  awards_won?  avg_training_score  is_promoted  \n",
       "0              1            0                  49            0  \n",
       "1              0            0                  60            0  "
      ]
     },
     "execution_count": 17,
     "metadata": {},
     "output_type": "execute_result"
    }
   ],
   "source": [
    "# instantiate labelencoder object\n",
    "le = LabelEncoder()\n",
    "# apply le on column gender\n",
    "data['gender'] = le.fit_transform(data['gender'])\n",
    "data.head(2)"
   ]
  },
  {
   "cell_type": "code",
   "execution_count": 18,
   "metadata": {},
   "outputs": [],
   "source": [
    "from sklearn.preprocessing import OneHotEncoder\n",
    "# instantiate OneHotEncoder\n",
    "features = ['department', 'education', 'recruitment_channel']\n",
    "ohe = OneHotEncoder(categorical_features = features, sparse=False ) \n",
    "# categorical_features = boolean mask for categorical columns\n",
    "# sparse = False output an array not sparse matrix"
   ]
  },
  {
   "cell_type": "code",
   "execution_count": 19,
   "metadata": {},
   "outputs": [],
   "source": [
    "# apply OneHotEncoder on categorical feature columns\n",
    "#X_ohe = ohe.fit_transform(data) # It returns an numpy array\n",
    "ohe = OneHotEncoder(sparse=False)\n",
    "X_ohe = ohe.fit_transform(data[['department', 'education', 'recruitment_channel']])"
   ]
  },
  {
   "cell_type": "code",
   "execution_count": 20,
   "metadata": {},
   "outputs": [
    {
     "data": {
      "text/plain": [
       "(54808, 15)"
      ]
     },
     "execution_count": 20,
     "metadata": {},
     "output_type": "execute_result"
    }
   ],
   "source": [
    "X_ohe.shape"
   ]
  },
  {
   "cell_type": "code",
   "execution_count": 21,
   "metadata": {},
   "outputs": [
    {
     "data": {
      "text/plain": [
       "numpy.ndarray"
      ]
     },
     "execution_count": 21,
     "metadata": {},
     "output_type": "execute_result"
    }
   ],
   "source": [
    "type(X_ohe)"
   ]
  },
  {
   "cell_type": "code",
   "execution_count": 22,
   "metadata": {},
   "outputs": [
    {
     "data": {
      "text/plain": [
       "array([[0., 0., 0., ..., 0., 0., 1.],\n",
       "       [0., 0., 0., ..., 1., 0., 0.],\n",
       "       [0., 0., 0., ..., 0., 0., 1.],\n",
       "       ...,\n",
       "       [1., 0., 0., ..., 1., 0., 0.],\n",
       "       [0., 0., 0., ..., 0., 0., 1.],\n",
       "       [0., 0., 1., ..., 1., 0., 0.]])"
      ]
     },
     "execution_count": 22,
     "metadata": {},
     "output_type": "execute_result"
    }
   ],
   "source": [
    "X_ohe"
   ]
  },
  {
   "cell_type": "code",
   "execution_count": 23,
   "metadata": {},
   "outputs": [],
   "source": [
    "df= pd.get_dummies(data['department'], prefix=['department'],drop_first=True)\n",
    "df1 =  pd.get_dummies(data['education'], prefix=['education'],drop_first=True)\n",
    "df2 =  pd.get_dummies(data['recruitment_channel'], prefix=['RC'],drop_first=True)\n",
    "data = pd.concat([data, df, df1,df2],axis=1)\n",
    "data = data.drop(['department', 'education', 'recruitment_channel'],axis=1)"
   ]
  },
  {
   "cell_type": "code",
   "execution_count": 24,
   "metadata": {},
   "outputs": [
    {
     "data": {
      "text/html": [
       "<div>\n",
       "<style scoped>\n",
       "    .dataframe tbody tr th:only-of-type {\n",
       "        vertical-align: middle;\n",
       "    }\n",
       "\n",
       "    .dataframe tbody tr th {\n",
       "        vertical-align: top;\n",
       "    }\n",
       "\n",
       "    .dataframe thead th {\n",
       "        text-align: right;\n",
       "    }\n",
       "</style>\n",
       "<table border=\"1\" class=\"dataframe\">\n",
       "  <thead>\n",
       "    <tr style=\"text-align: right;\">\n",
       "      <th></th>\n",
       "      <th>gender</th>\n",
       "      <th>no_of_trainings</th>\n",
       "      <th>age</th>\n",
       "      <th>previous_year_rating</th>\n",
       "      <th>length_of_service</th>\n",
       "      <th>KPIs_met &gt;80%</th>\n",
       "      <th>awards_won?</th>\n",
       "      <th>avg_training_score</th>\n",
       "      <th>is_promoted</th>\n",
       "      <th>['department']_Finance</th>\n",
       "      <th>...</th>\n",
       "      <th>['department']_Legal</th>\n",
       "      <th>['department']_Operations</th>\n",
       "      <th>['department']_Procurement</th>\n",
       "      <th>['department']_R&amp;D</th>\n",
       "      <th>['department']_Sales &amp; Marketing</th>\n",
       "      <th>['department']_Technology</th>\n",
       "      <th>['education']_Below Secondary</th>\n",
       "      <th>['education']_Master's &amp; above</th>\n",
       "      <th>['RC']_referred</th>\n",
       "      <th>['RC']_sourcing</th>\n",
       "    </tr>\n",
       "  </thead>\n",
       "  <tbody>\n",
       "    <tr>\n",
       "      <th>0</th>\n",
       "      <td>0</td>\n",
       "      <td>1</td>\n",
       "      <td>35</td>\n",
       "      <td>5.0</td>\n",
       "      <td>8</td>\n",
       "      <td>1</td>\n",
       "      <td>0</td>\n",
       "      <td>49</td>\n",
       "      <td>0</td>\n",
       "      <td>0</td>\n",
       "      <td>...</td>\n",
       "      <td>0</td>\n",
       "      <td>0</td>\n",
       "      <td>0</td>\n",
       "      <td>0</td>\n",
       "      <td>1</td>\n",
       "      <td>0</td>\n",
       "      <td>0</td>\n",
       "      <td>1</td>\n",
       "      <td>0</td>\n",
       "      <td>1</td>\n",
       "    </tr>\n",
       "    <tr>\n",
       "      <th>1</th>\n",
       "      <td>1</td>\n",
       "      <td>1</td>\n",
       "      <td>30</td>\n",
       "      <td>5.0</td>\n",
       "      <td>4</td>\n",
       "      <td>0</td>\n",
       "      <td>0</td>\n",
       "      <td>60</td>\n",
       "      <td>0</td>\n",
       "      <td>0</td>\n",
       "      <td>...</td>\n",
       "      <td>0</td>\n",
       "      <td>1</td>\n",
       "      <td>0</td>\n",
       "      <td>0</td>\n",
       "      <td>0</td>\n",
       "      <td>0</td>\n",
       "      <td>0</td>\n",
       "      <td>0</td>\n",
       "      <td>0</td>\n",
       "      <td>0</td>\n",
       "    </tr>\n",
       "  </tbody>\n",
       "</table>\n",
       "<p>2 rows × 21 columns</p>\n",
       "</div>"
      ],
      "text/plain": [
       "   gender  no_of_trainings  age  previous_year_rating  length_of_service  \\\n",
       "0       0                1   35                   5.0                  8   \n",
       "1       1                1   30                   5.0                  4   \n",
       "\n",
       "   KPIs_met >80%  awards_won?  avg_training_score  is_promoted  \\\n",
       "0              1            0                  49            0   \n",
       "1              0            0                  60            0   \n",
       "\n",
       "   ['department']_Finance       ...         ['department']_Legal  \\\n",
       "0                       0       ...                            0   \n",
       "1                       0       ...                            0   \n",
       "\n",
       "   ['department']_Operations  ['department']_Procurement  ['department']_R&D  \\\n",
       "0                          0                           0                   0   \n",
       "1                          1                           0                   0   \n",
       "\n",
       "   ['department']_Sales & Marketing  ['department']_Technology  \\\n",
       "0                                 1                          0   \n",
       "1                                 0                          0   \n",
       "\n",
       "   ['education']_Below Secondary  ['education']_Master's & above  \\\n",
       "0                              0                               1   \n",
       "1                              0                               0   \n",
       "\n",
       "   ['RC']_referred  ['RC']_sourcing  \n",
       "0                0                1  \n",
       "1                0                0  \n",
       "\n",
       "[2 rows x 21 columns]"
      ]
     },
     "execution_count": 24,
     "metadata": {},
     "output_type": "execute_result"
    }
   ],
   "source": [
    "data.head(2)"
   ]
  },
  {
   "cell_type": "code",
   "execution_count": 25,
   "metadata": {},
   "outputs": [
    {
     "data": {
      "text/plain": [
       "(54808, 21)"
      ]
     },
     "execution_count": 25,
     "metadata": {},
     "output_type": "execute_result"
    }
   ],
   "source": [
    "data.shape"
   ]
  },
  {
   "cell_type": "code",
   "execution_count": 26,
   "metadata": {},
   "outputs": [],
   "source": [
    "from sklearn.model_selection import train_test_split"
   ]
  },
  {
   "cell_type": "code",
   "execution_count": 27,
   "metadata": {},
   "outputs": [],
   "source": [
    "X = data.drop(['is_promoted'],axis=1)\n",
    "Y = data['is_promoted']\n"
   ]
  },
  {
   "cell_type": "code",
   "execution_count": 28,
   "metadata": {},
   "outputs": [],
   "source": [
    "X_train, X_test, Y_train, Y_test = train_test_split(X,Y,random_state = 42, test_size = 0.2)"
   ]
  },
  {
   "cell_type": "code",
   "execution_count": 29,
   "metadata": {},
   "outputs": [
    {
     "name": "stderr",
     "output_type": "stream",
     "text": [
      "C:\\Users\\saumya.m.tiwari\\AppData\\Local\\Continuum\\anaconda3\\lib\\site-packages\\sklearn\\linear_model\\logistic.py:433: FutureWarning: Default solver will be changed to 'lbfgs' in 0.22. Specify a solver to silence this warning.\n",
      "  FutureWarning)\n"
     ]
    },
    {
     "data": {
      "text/plain": [
       "LogisticRegression(C=1.0, class_weight=None, dual=False, fit_intercept=True,\n",
       "          intercept_scaling=1, max_iter=100, multi_class='warn',\n",
       "          n_jobs=None, penalty='l2', random_state=None, solver='warn',\n",
       "          tol=0.0001, verbose=0, warm_start=False)"
      ]
     },
     "execution_count": 29,
     "metadata": {},
     "output_type": "execute_result"
    }
   ],
   "source": [
    "from sklearn.linear_model import LogisticRegression\n",
    "logit = LogisticRegression()\n",
    "logit.fit(X_train,Y_train)"
   ]
  },
  {
   "cell_type": "code",
   "execution_count": 30,
   "metadata": {},
   "outputs": [],
   "source": [
    "predict1 = logit.predict(X_test)"
   ]
  },
  {
   "cell_type": "code",
   "execution_count": 31,
   "metadata": {},
   "outputs": [
    {
     "name": "stdout",
     "output_type": "stream",
     "text": [
      "              precision    recall  f1-score   support\n",
      "\n",
      "           0       0.93      1.00      0.96     10054\n",
      "           1       0.87      0.20      0.32       908\n",
      "\n",
      "   micro avg       0.93      0.93      0.93     10962\n",
      "   macro avg       0.90      0.60      0.64     10962\n",
      "weighted avg       0.93      0.93      0.91     10962\n",
      "\n"
     ]
    }
   ],
   "source": [
    "from sklearn.metrics import classification_report, roc_auc_score, roc_curve\n",
    "print(classification_report(Y_test,predict1))"
   ]
  },
  {
   "cell_type": "code",
   "execution_count": 32,
   "metadata": {},
   "outputs": [],
   "source": [
    "fpr,tpr,threshold = roc_curve(Y_test,logit.predict_proba(X_test)[:,1])"
   ]
  },
  {
   "cell_type": "code",
   "execution_count": 33,
   "metadata": {},
   "outputs": [
    {
     "data": {
      "text/plain": [
       "0.5983268543696637"
      ]
     },
     "execution_count": 33,
     "metadata": {},
     "output_type": "execute_result"
    }
   ],
   "source": [
    "logit_roc_auc_1 = roc_auc_score(Y_test,logit.predict(X_test))\n",
    "logit_roc_auc_1"
   ]
  },
  {
   "cell_type": "code",
   "execution_count": 34,
   "metadata": {},
   "outputs": [
    {
     "data": {
      "text/plain": [
       "0.32437275985663083"
      ]
     },
     "execution_count": 34,
     "metadata": {},
     "output_type": "execute_result"
    }
   ],
   "source": [
    "from sklearn.metrics import f1_score\n",
    "# f1 score\n",
    "score = f1_score(predict1, Y_test)\n",
    "score"
   ]
  },
  {
   "cell_type": "code",
   "execution_count": 35,
   "metadata": {},
   "outputs": [
    {
     "data": {
      "text/plain": [
       "<matplotlib.legend.Legend at 0x1d4575decf8>"
      ]
     },
     "execution_count": 35,
     "metadata": {},
     "output_type": "execute_result"
    },
    {
     "data": {
      "image/png": "[encoded data removed]",
      "text/plain": [
       "<Figure size 432x288 with 1 Axes>"
      ]
     },
     "metadata": {},
     "output_type": "display_data"
    }
   ],
   "source": [
    "import matplotlib.pyplot as plt \n",
    "plt.plot(fpr,tpr,label = 'Logistic Regression (Sensitivity = %0.3f)'%logit_roc_auc_1)\n",
    "plt.plot([0,1],[0,1],'r--')\n",
    "plt.title('ROC Curve')\n",
    "plt.xlabel('False Positive Rate')\n",
    "plt.ylabel('True Positive Rate')\n",
    "plt.legend(loc = \"lower right\")"
   ]
  },
  {
   "cell_type": "markdown",
   "metadata": {},
   "source": [
    "We can see that recall for class 1 is very bad. Thus our model is not good."
   ]
  },
  {
   "cell_type": "code",
   "execution_count": 36,
   "metadata": {},
   "outputs": [
    {
     "data": {
      "text/plain": [
       "0    50140\n",
       "1     4668\n",
       "Name: is_promoted, dtype: int64"
      ]
     },
     "execution_count": 36,
     "metadata": {},
     "output_type": "execute_result"
    }
   ],
   "source": [
    "pd.value_counts(data['is_promoted'])\n"
   ]
  },
  {
   "cell_type": "markdown",
   "metadata": {},
   "source": [
    "There is class imbalance in our data. We will use SMOTE or ADASYN for overcoming class imbalance problem."
   ]
  },
  {
   "cell_type": "code",
   "execution_count": 37,
   "metadata": {},
   "outputs": [
    {
     "name": "stdout",
     "output_type": "stream",
     "text": [
      "[(0, 50140), (1, 50140)]\n"
     ]
    }
   ],
   "source": [
    "from imblearn.over_sampling import SMOTE\n",
    "from collections import Counter\n",
    "# applying SMOTE to our data and checking the class counts\n",
    "X_resampled, y_resampled = SMOTE().fit_resample(X, Y)\n",
    "print(sorted(Counter(y_resampled).items()))"
   ]
  },
  {
   "cell_type": "code",
   "execution_count": 38,
   "metadata": {},
   "outputs": [],
   "source": [
    "X1_train,X1_test,Y1_train,Y1_test = train_test_split(X_resampled,y_resampled,test_size = 0.2, random_state =2 )"
   ]
  },
  {
   "cell_type": "code",
   "execution_count": 39,
   "metadata": {},
   "outputs": [
    {
     "name": "stderr",
     "output_type": "stream",
     "text": [
      "C:\\Users\\saumya.m.tiwari\\AppData\\Local\\Continuum\\anaconda3\\lib\\site-packages\\sklearn\\linear_model\\logistic.py:433: FutureWarning: Default solver will be changed to 'lbfgs' in 0.22. Specify a solver to silence this warning.\n",
      "  FutureWarning)\n"
     ]
    },
    {
     "data": {
      "text/plain": [
       "LogisticRegression(C=1.0, class_weight=None, dual=False, fit_intercept=True,\n",
       "          intercept_scaling=1, max_iter=100, multi_class='warn',\n",
       "          n_jobs=None, penalty='l2', random_state=None, solver='warn',\n",
       "          tol=0.0001, verbose=0, warm_start=False)"
      ]
     },
     "execution_count": 39,
     "metadata": {},
     "output_type": "execute_result"
    }
   ],
   "source": [
    "logit.fit(X1_train, Y1_train)"
   ]
  },
  {
   "cell_type": "code",
   "execution_count": 40,
   "metadata": {},
   "outputs": [],
   "source": [
    "pred1 = logit.predict(X1_test)"
   ]
  },
  {
   "cell_type": "code",
   "execution_count": 41,
   "metadata": {},
   "outputs": [
    {
     "name": "stdout",
     "output_type": "stream",
     "text": [
      "              precision    recall  f1-score   support\n",
      "\n",
      "           0       0.83      0.76      0.79     10140\n",
      "           1       0.78      0.84      0.81      9916\n",
      "\n",
      "   micro avg       0.80      0.80      0.80     20056\n",
      "   macro avg       0.80      0.80      0.80     20056\n",
      "weighted avg       0.80      0.80      0.80     20056\n",
      "\n"
     ]
    }
   ],
   "source": [
    "print(classification_report(Y1_test, pred1))"
   ]
  },
  {
   "cell_type": "code",
   "execution_count": 42,
   "metadata": {},
   "outputs": [
    {
     "data": {
      "text/plain": [
       "0.8065421465208554"
      ]
     },
     "execution_count": 42,
     "metadata": {},
     "output_type": "execute_result"
    }
   ],
   "source": [
    "from sklearn.metrics import f1_score\n",
    "# f1 score\n",
    "score = f1_score(pred1, Y1_test)\n",
    "score"
   ]
  },
  {
   "cell_type": "code",
   "execution_count": 43,
   "metadata": {},
   "outputs": [
    {
     "name": "stdout",
     "output_type": "stream",
     "text": [
      "[(0, 50140), (1, 50807)]\n"
     ]
    }
   ],
   "source": [
    "from imblearn.over_sampling import ADASYN\n",
    "from collections import Counter\n",
    "# applying SMOTE to our data and checking the class counts\n",
    "X_resampled1, y_resampled1 = ADASYN().fit_resample(X, Y)\n",
    "print(sorted(Counter(y_resampled1).items()))"
   ]
  },
  {
   "cell_type": "code",
   "execution_count": 44,
   "metadata": {},
   "outputs": [],
   "source": [
    "X2_train,X2_test,Y2_train,Y2_test = train_test_split(X_resampled1,y_resampled1,test_size = 0.2, random_state =2 )"
   ]
  },
  {
   "cell_type": "code",
   "execution_count": 45,
   "metadata": {},
   "outputs": [
    {
     "name": "stderr",
     "output_type": "stream",
     "text": [
      "C:\\Users\\saumya.m.tiwari\\AppData\\Local\\Continuum\\anaconda3\\lib\\site-packages\\sklearn\\linear_model\\logistic.py:433: FutureWarning: Default solver will be changed to 'lbfgs' in 0.22. Specify a solver to silence this warning.\n",
      "  FutureWarning)\n"
     ]
    },
    {
     "data": {
      "text/plain": [
       "LogisticRegression(C=1.0, class_weight=None, dual=False, fit_intercept=True,\n",
       "          intercept_scaling=1, max_iter=100, multi_class='warn',\n",
       "          n_jobs=None, penalty='l2', random_state=None, solver='warn',\n",
       "          tol=0.0001, verbose=0, warm_start=False)"
      ]
     },
     "execution_count": 45,
     "metadata": {},
     "output_type": "execute_result"
    }
   ],
   "source": [
    "logit.fit(X2_train, Y2_train)"
   ]
  },
  {
   "cell_type": "code",
   "execution_count": 46,
   "metadata": {},
   "outputs": [],
   "source": [
    "pred2 = logit.predict(X2_test)"
   ]
  },
  {
   "cell_type": "code",
   "execution_count": 47,
   "metadata": {},
   "outputs": [
    {
     "name": "stdout",
     "output_type": "stream",
     "text": [
      "              precision    recall  f1-score   support\n",
      "\n",
      "           0       0.85      0.74      0.79     10195\n",
      "           1       0.76      0.86      0.81      9995\n",
      "\n",
      "   micro avg       0.80      0.80      0.80     20190\n",
      "   macro avg       0.80      0.80      0.80     20190\n",
      "weighted avg       0.80      0.80      0.80     20190\n",
      "\n"
     ]
    }
   ],
   "source": [
    "print(classification_report(Y2_test, pred2))"
   ]
  },
  {
   "cell_type": "code",
   "execution_count": 48,
   "metadata": {},
   "outputs": [
    {
     "data": {
      "text/plain": [
       "0.809894855426211"
      ]
     },
     "execution_count": 48,
     "metadata": {},
     "output_type": "execute_result"
    }
   ],
   "source": [
    "from sklearn.metrics import f1_score\n",
    "# f1 score\n",
    "score = f1_score(pred2, Y2_test)\n",
    "score"
   ]
  },
  {
   "cell_type": "code",
   "execution_count": 49,
   "metadata": {},
   "outputs": [],
   "source": [
    "test = pd.read_csv(\"test.csv\")"
   ]
  },
  {
   "cell_type": "code",
   "execution_count": 50,
   "metadata": {},
   "outputs": [
    {
     "data": {
      "text/plain": [
       "employee_id                0\n",
       "department                 0\n",
       "region                     0\n",
       "education               1034\n",
       "gender                     0\n",
       "recruitment_channel        0\n",
       "no_of_trainings            0\n",
       "age                        0\n",
       "previous_year_rating    1812\n",
       "length_of_service          0\n",
       "KPIs_met >80%              0\n",
       "awards_won?                0\n",
       "avg_training_score         0\n",
       "dtype: int64"
      ]
     },
     "execution_count": 50,
     "metadata": {},
     "output_type": "execute_result"
    }
   ],
   "source": [
    "test.isna().sum()"
   ]
  },
  {
   "cell_type": "code",
   "execution_count": 51,
   "metadata": {},
   "outputs": [],
   "source": [
    "test1 = pd.read_csv(\"test.csv\")"
   ]
  },
  {
   "cell_type": "code",
   "execution_count": 52,
   "metadata": {},
   "outputs": [
    {
     "data": {
      "text/html": [
       "<div>\n",
       "<style scoped>\n",
       "    .dataframe tbody tr th:only-of-type {\n",
       "        vertical-align: middle;\n",
       "    }\n",
       "\n",
       "    .dataframe tbody tr th {\n",
       "        vertical-align: top;\n",
       "    }\n",
       "\n",
       "    .dataframe thead th {\n",
       "        text-align: right;\n",
       "    }\n",
       "</style>\n",
       "<table border=\"1\" class=\"dataframe\">\n",
       "  <thead>\n",
       "    <tr style=\"text-align: right;\">\n",
       "      <th></th>\n",
       "      <th>employee_id</th>\n",
       "      <th>department</th>\n",
       "      <th>region</th>\n",
       "      <th>education</th>\n",
       "      <th>gender</th>\n",
       "      <th>recruitment_channel</th>\n",
       "      <th>no_of_trainings</th>\n",
       "      <th>age</th>\n",
       "      <th>previous_year_rating</th>\n",
       "      <th>length_of_service</th>\n",
       "      <th>KPIs_met &gt;80%</th>\n",
       "      <th>awards_won?</th>\n",
       "      <th>avg_training_score</th>\n",
       "    </tr>\n",
       "  </thead>\n",
       "  <tbody>\n",
       "    <tr>\n",
       "      <th>0</th>\n",
       "      <td>8724</td>\n",
       "      <td>Technology</td>\n",
       "      <td>region_26</td>\n",
       "      <td>Bachelor's</td>\n",
       "      <td>m</td>\n",
       "      <td>sourcing</td>\n",
       "      <td>1</td>\n",
       "      <td>24</td>\n",
       "      <td>NaN</td>\n",
       "      <td>1</td>\n",
       "      <td>1</td>\n",
       "      <td>0</td>\n",
       "      <td>77</td>\n",
       "    </tr>\n",
       "    <tr>\n",
       "      <th>1</th>\n",
       "      <td>74430</td>\n",
       "      <td>HR</td>\n",
       "      <td>region_4</td>\n",
       "      <td>Bachelor's</td>\n",
       "      <td>f</td>\n",
       "      <td>other</td>\n",
       "      <td>1</td>\n",
       "      <td>31</td>\n",
       "      <td>3.0</td>\n",
       "      <td>5</td>\n",
       "      <td>0</td>\n",
       "      <td>0</td>\n",
       "      <td>51</td>\n",
       "    </tr>\n",
       "    <tr>\n",
       "      <th>2</th>\n",
       "      <td>72255</td>\n",
       "      <td>Sales &amp; Marketing</td>\n",
       "      <td>region_13</td>\n",
       "      <td>Bachelor's</td>\n",
       "      <td>m</td>\n",
       "      <td>other</td>\n",
       "      <td>1</td>\n",
       "      <td>31</td>\n",
       "      <td>1.0</td>\n",
       "      <td>4</td>\n",
       "      <td>0</td>\n",
       "      <td>0</td>\n",
       "      <td>47</td>\n",
       "    </tr>\n",
       "    <tr>\n",
       "      <th>3</th>\n",
       "      <td>38562</td>\n",
       "      <td>Procurement</td>\n",
       "      <td>region_2</td>\n",
       "      <td>Bachelor's</td>\n",
       "      <td>f</td>\n",
       "      <td>other</td>\n",
       "      <td>3</td>\n",
       "      <td>31</td>\n",
       "      <td>2.0</td>\n",
       "      <td>9</td>\n",
       "      <td>0</td>\n",
       "      <td>0</td>\n",
       "      <td>65</td>\n",
       "    </tr>\n",
       "    <tr>\n",
       "      <th>4</th>\n",
       "      <td>64486</td>\n",
       "      <td>Finance</td>\n",
       "      <td>region_29</td>\n",
       "      <td>Bachelor's</td>\n",
       "      <td>m</td>\n",
       "      <td>sourcing</td>\n",
       "      <td>1</td>\n",
       "      <td>30</td>\n",
       "      <td>4.0</td>\n",
       "      <td>7</td>\n",
       "      <td>0</td>\n",
       "      <td>0</td>\n",
       "      <td>61</td>\n",
       "    </tr>\n",
       "  </tbody>\n",
       "</table>\n",
       "</div>"
      ],
      "text/plain": [
       "   employee_id         department     region   education gender  \\\n",
       "0         8724         Technology  region_26  Bachelor's      m   \n",
       "1        74430                 HR   region_4  Bachelor's      f   \n",
       "2        72255  Sales & Marketing  region_13  Bachelor's      m   \n",
       "3        38562        Procurement   region_2  Bachelor's      f   \n",
       "4        64486            Finance  region_29  Bachelor's      m   \n",
       "\n",
       "  recruitment_channel  no_of_trainings  age  previous_year_rating  \\\n",
       "0            sourcing                1   24                   NaN   \n",
       "1               other                1   31                   3.0   \n",
       "2               other                1   31                   1.0   \n",
       "3               other                3   31                   2.0   \n",
       "4            sourcing                1   30                   4.0   \n",
       "\n",
       "   length_of_service  KPIs_met >80%  awards_won?  avg_training_score  \n",
       "0                  1              1            0                  77  \n",
       "1                  5              0            0                  51  \n",
       "2                  4              0            0                  47  \n",
       "3                  9              0            0                  65  \n",
       "4                  7              0            0                  61  "
      ]
     },
     "execution_count": 52,
     "metadata": {},
     "output_type": "execute_result"
    }
   ],
   "source": [
    "test.head()"
   ]
  },
  {
   "cell_type": "code",
   "execution_count": 53,
   "metadata": {},
   "outputs": [
    {
     "data": {
      "text/plain": [
       "Index(['employee_id', 'department', 'region', 'education', 'gender',\n",
       "       'recruitment_channel', 'no_of_trainings', 'age', 'previous_year_rating',\n",
       "       'length_of_service', 'KPIs_met >80%', 'awards_won?',\n",
       "       'avg_training_score'],\n",
       "      dtype='object')"
      ]
     },
     "execution_count": 53,
     "metadata": {},
     "output_type": "execute_result"
    }
   ],
   "source": [
    "test.keys()"
   ]
  },
  {
   "cell_type": "code",
   "execution_count": 54,
   "metadata": {},
   "outputs": [
    {
     "data": {
      "text/plain": [
       "department              0\n",
       "education               0\n",
       "gender                  0\n",
       "recruitment_channel     0\n",
       "no_of_trainings         0\n",
       "age                     0\n",
       "previous_year_rating    0\n",
       "length_of_service       0\n",
       "KPIs_met >80%           0\n",
       "awards_won?             0\n",
       "avg_training_score      0\n",
       "dtype: int64"
      ]
     },
     "execution_count": 54,
     "metadata": {},
     "output_type": "execute_result"
    }
   ],
   "source": [
    "test = test.drop(['region','employee_id'],axis =1)\n",
    "test[\"education\"].fillna( method ='ffill', inplace = True)\n",
    "test = test.fillna(test.mean())\n",
    "test.isna().sum()"
   ]
  },
  {
   "cell_type": "code",
   "execution_count": 55,
   "metadata": {},
   "outputs": [
    {
     "name": "stdout",
     "output_type": "stream",
     "text": [
      "3\n",
      "9\n",
      "3\n",
      "2\n"
     ]
    }
   ],
   "source": [
    "#['department', 'region', 'education', 'gender', 'recruitment_channel']\n",
    "print(test['recruitment_channel'].nunique())\n",
    "print(test['department'].nunique())\n",
    "print(test['education'].nunique())\n",
    "print(test['gender'].nunique())"
   ]
  },
  {
   "cell_type": "code",
   "execution_count": 56,
   "metadata": {},
   "outputs": [
    {
     "data": {
      "text/html": [
       "<div>\n",
       "<style scoped>\n",
       "    .dataframe tbody tr th:only-of-type {\n",
       "        vertical-align: middle;\n",
       "    }\n",
       "\n",
       "    .dataframe tbody tr th {\n",
       "        vertical-align: top;\n",
       "    }\n",
       "\n",
       "    .dataframe thead th {\n",
       "        text-align: right;\n",
       "    }\n",
       "</style>\n",
       "<table border=\"1\" class=\"dataframe\">\n",
       "  <thead>\n",
       "    <tr style=\"text-align: right;\">\n",
       "      <th></th>\n",
       "      <th>department</th>\n",
       "      <th>education</th>\n",
       "      <th>gender</th>\n",
       "      <th>recruitment_channel</th>\n",
       "      <th>no_of_trainings</th>\n",
       "      <th>age</th>\n",
       "      <th>previous_year_rating</th>\n",
       "      <th>length_of_service</th>\n",
       "      <th>KPIs_met &gt;80%</th>\n",
       "      <th>awards_won?</th>\n",
       "      <th>avg_training_score</th>\n",
       "    </tr>\n",
       "  </thead>\n",
       "  <tbody>\n",
       "    <tr>\n",
       "      <th>0</th>\n",
       "      <td>Technology</td>\n",
       "      <td>Bachelor's</td>\n",
       "      <td>1</td>\n",
       "      <td>sourcing</td>\n",
       "      <td>1</td>\n",
       "      <td>24</td>\n",
       "      <td>3.339146</td>\n",
       "      <td>1</td>\n",
       "      <td>1</td>\n",
       "      <td>0</td>\n",
       "      <td>77</td>\n",
       "    </tr>\n",
       "    <tr>\n",
       "      <th>1</th>\n",
       "      <td>HR</td>\n",
       "      <td>Bachelor's</td>\n",
       "      <td>0</td>\n",
       "      <td>other</td>\n",
       "      <td>1</td>\n",
       "      <td>31</td>\n",
       "      <td>3.000000</td>\n",
       "      <td>5</td>\n",
       "      <td>0</td>\n",
       "      <td>0</td>\n",
       "      <td>51</td>\n",
       "    </tr>\n",
       "  </tbody>\n",
       "</table>\n",
       "</div>"
      ],
      "text/plain": [
       "   department   education  gender recruitment_channel  no_of_trainings  age  \\\n",
       "0  Technology  Bachelor's       1            sourcing                1   24   \n",
       "1          HR  Bachelor's       0               other                1   31   \n",
       "\n",
       "   previous_year_rating  length_of_service  KPIs_met >80%  awards_won?  \\\n",
       "0              3.339146                  1              1            0   \n",
       "1              3.000000                  5              0            0   \n",
       "\n",
       "   avg_training_score  \n",
       "0                  77  \n",
       "1                  51  "
      ]
     },
     "execution_count": 56,
     "metadata": {},
     "output_type": "execute_result"
    }
   ],
   "source": [
    "# instantiate labelencoder object\n",
    "le = LabelEncoder()\n",
    "# apply le on column gender\n",
    "test['gender'] = le.fit_transform(test['gender'])\n",
    "test.head(2)"
   ]
  },
  {
   "cell_type": "code",
   "execution_count": 57,
   "metadata": {},
   "outputs": [],
   "source": [
    "df4= pd.get_dummies(test['department'], prefix=['department'],drop_first=True)\n",
    "df5 =  pd.get_dummies(test['education'], prefix=['education'],drop_first=True)\n",
    "df6 =  pd.get_dummies(test['recruitment_channel'], prefix=['RC'],drop_first=True)"
   ]
  },
  {
   "cell_type": "code",
   "execution_count": 58,
   "metadata": {},
   "outputs": [],
   "source": [
    "test = pd.concat([test, df4, df5,df6],axis=1)\n",
    "test = test.drop(['department','education', 'recruitment_channel'],axis=1)"
   ]
  },
  {
   "cell_type": "code",
   "execution_count": 59,
   "metadata": {},
   "outputs": [
    {
     "data": {
      "text/plain": [
       "(23490, 20)"
      ]
     },
     "execution_count": 59,
     "metadata": {},
     "output_type": "execute_result"
    }
   ],
   "source": [
    "test.shape"
   ]
  },
  {
   "cell_type": "code",
   "execution_count": 60,
   "metadata": {},
   "outputs": [
    {
     "data": {
      "text/plain": [
       "23490"
      ]
     },
     "execution_count": 60,
     "metadata": {},
     "output_type": "execute_result"
    }
   ],
   "source": [
    "test_pred = logit.predict(test)\n",
    "len(test_pred)"
   ]
  },
  {
   "cell_type": "code",
   "execution_count": 61,
   "metadata": {},
   "outputs": [
    {
     "data": {
      "text/plain": [
       "23490"
      ]
     },
     "execution_count": 61,
     "metadata": {},
     "output_type": "execute_result"
    }
   ],
   "source": [
    "import numpy as np\n",
    "employee_id=np.array(test1['employee_id'])\n",
    "len(employee_id)"
   ]
  },
  {
   "cell_type": "code",
   "execution_count": 62,
   "metadata": {},
   "outputs": [],
   "source": [
    "submission = pd.DataFrame({'employee_id': employee_id, 'is_promoted': list(test_pred)}, columns=['employee_id', 'is_promoted'])"
   ]
  },
  {
   "cell_type": "code",
   "execution_count": 63,
   "metadata": {},
   "outputs": [
    {
     "data": {
      "text/html": [
       "<div>\n",
       "<style scoped>\n",
       "    .dataframe tbody tr th:only-of-type {\n",
       "        vertical-align: middle;\n",
       "    }\n",
       "\n",
       "    .dataframe tbody tr th {\n",
       "        vertical-align: top;\n",
       "    }\n",
       "\n",
       "    .dataframe thead th {\n",
       "        text-align: right;\n",
       "    }\n",
       "</style>\n",
       "<table border=\"1\" class=\"dataframe\">\n",
       "  <thead>\n",
       "    <tr style=\"text-align: right;\">\n",
       "      <th></th>\n",
       "      <th>employee_id</th>\n",
       "      <th>is_promoted</th>\n",
       "    </tr>\n",
       "  </thead>\n",
       "  <tbody>\n",
       "    <tr>\n",
       "      <th>0</th>\n",
       "      <td>8724</td>\n",
       "      <td>1</td>\n",
       "    </tr>\n",
       "    <tr>\n",
       "      <th>1</th>\n",
       "      <td>74430</td>\n",
       "      <td>0</td>\n",
       "    </tr>\n",
       "    <tr>\n",
       "      <th>2</th>\n",
       "      <td>72255</td>\n",
       "      <td>0</td>\n",
       "    </tr>\n",
       "    <tr>\n",
       "      <th>3</th>\n",
       "      <td>38562</td>\n",
       "      <td>0</td>\n",
       "    </tr>\n",
       "    <tr>\n",
       "      <th>4</th>\n",
       "      <td>64486</td>\n",
       "      <td>0</td>\n",
       "    </tr>\n",
       "  </tbody>\n",
       "</table>\n",
       "</div>"
      ],
      "text/plain": [
       "   employee_id  is_promoted\n",
       "0         8724            1\n",
       "1        74430            0\n",
       "2        72255            0\n",
       "3        38562            0\n",
       "4        64486            0"
      ]
     },
     "execution_count": 63,
     "metadata": {},
     "output_type": "execute_result"
    }
   ],
   "source": [
    "submission.head()"
   ]
  },
  {
   "cell_type": "code",
   "execution_count": 64,
   "metadata": {},
   "outputs": [
    {
     "data": {
      "text/plain": [
       "(23490, 2)"
      ]
     },
     "execution_count": 64,
     "metadata": {},
     "output_type": "execute_result"
    }
   ],
   "source": [
    "submission.shape"
   ]
  },
  {
   "cell_type": "code",
   "execution_count": null,
   "metadata": {},
   "outputs": [],
   "source": [
    "# Install `XlsxWriter` \n",
    "#!pip install XlsxWriter\n",
    "\n"
   ]
  },
  {
   "cell_type": "code",
   "execution_count": 65,
   "metadata": {},
   "outputs": [],
   "source": [
    "# Specify a writer\n",
    "writer = pd.ExcelWriter('submission.xlsx', engine='xlsxwriter')\n",
    "\n",
    "# Write your DataFrame to a file     \n",
    "submission.to_excel(writer, 'Sheet1')\n",
    "\n",
    "# Save the result \n",
    "writer.save()"
   ]
  },
  {
   "cell_type": "markdown",
   "metadata": {},
   "source": [
    "## Random Forest"
   ]
  },
  {
   "cell_type": "code",
   "execution_count": 75,
   "metadata": {},
   "outputs": [
    {
     "name": "stderr",
     "output_type": "stream",
     "text": [
      "C:\\Users\\saumya.m.tiwari\\AppData\\Local\\Continuum\\anaconda3\\lib\\site-packages\\sklearn\\ensemble\\forest.py:246: FutureWarning: The default value of n_estimators will change from 10 in version 0.20 to 100 in 0.22.\n",
      "  \"10 in version 0.20 to 100 in 0.22.\", FutureWarning)\n"
     ]
    },
    {
     "data": {
      "text/plain": [
       "RandomForestClassifier(bootstrap=True, class_weight=None, criterion='gini',\n",
       "            max_depth=15, max_features='auto', max_leaf_nodes=None,\n",
       "            min_impurity_decrease=0.0, min_impurity_split=None,\n",
       "            min_samples_leaf=1, min_samples_split=2,\n",
       "            min_weight_fraction_leaf=0.0, n_estimators=10, n_jobs=None,\n",
       "            oob_score=False, random_state=None, verbose=0,\n",
       "            warm_start=False)"
      ]
     },
     "execution_count": 75,
     "metadata": {},
     "output_type": "execute_result"
    }
   ],
   "source": [
    "from sklearn.ensemble import RandomForestClassifier\n",
    "random_forest1 = RandomForestClassifier( max_depth=15)\n",
    "random_forest1.fit(X2_train, Y2_train)"
   ]
  },
  {
   "cell_type": "code",
   "execution_count": 76,
   "metadata": {},
   "outputs": [],
   "source": [
    "pred_forest = random_forest1.predict(X2_test)\n",
    "#X2_train,X2_test,Y2_train,Y2_test"
   ]
  },
  {
   "cell_type": "code",
   "execution_count": 77,
   "metadata": {},
   "outputs": [
    {
     "name": "stdout",
     "output_type": "stream",
     "text": [
      "              precision    recall  f1-score   support\n",
      "\n",
      "           0       0.94      0.94      0.94     10195\n",
      "           1       0.94      0.94      0.94      9995\n",
      "\n",
      "   micro avg       0.94      0.94      0.94     20190\n",
      "   macro avg       0.94      0.94      0.94     20190\n",
      "weighted avg       0.94      0.94      0.94     20190\n",
      "\n"
     ]
    }
   ],
   "source": [
    "print(classification_report(Y2_test, pred_forest))"
   ]
  },
  {
   "cell_type": "code",
   "execution_count": 78,
   "metadata": {},
   "outputs": [
    {
     "data": {
      "text/plain": [
       "0.9374094610120385"
      ]
     },
     "execution_count": 78,
     "metadata": {},
     "output_type": "execute_result"
    }
   ],
   "source": [
    "score = f1_score(pred_forest, Y2_test)\n",
    "score"
   ]
  },
  {
   "cell_type": "code",
   "execution_count": 79,
   "metadata": {},
   "outputs": [
    {
     "data": {
      "text/plain": [
       "23490"
      ]
     },
     "execution_count": 79,
     "metadata": {},
     "output_type": "execute_result"
    }
   ],
   "source": [
    "test_pred_forest = random_forest1.predict(test)\n",
    "len(test_pred_forest)"
   ]
  },
  {
   "cell_type": "code",
   "execution_count": 82,
   "metadata": {},
   "outputs": [],
   "source": [
    "submission = pd.DataFrame({'employee_id': employee_id, 'is_promoted': list(test_pred_forest)}, columns=['employee_id', 'is_promoted'])"
   ]
  },
  {
   "cell_type": "code",
   "execution_count": 83,
   "metadata": {},
   "outputs": [
    {
     "data": {
      "text/html": [
       "<div>\n",
       "<style scoped>\n",
       "    .dataframe tbody tr th:only-of-type {\n",
       "        vertical-align: middle;\n",
       "    }\n",
       "\n",
       "    .dataframe tbody tr th {\n",
       "        vertical-align: top;\n",
       "    }\n",
       "\n",
       "    .dataframe thead th {\n",
       "        text-align: right;\n",
       "    }\n",
       "</style>\n",
       "<table border=\"1\" class=\"dataframe\">\n",
       "  <thead>\n",
       "    <tr style=\"text-align: right;\">\n",
       "      <th></th>\n",
       "      <th>employee_id</th>\n",
       "      <th>is_promoted</th>\n",
       "    </tr>\n",
       "  </thead>\n",
       "  <tbody>\n",
       "    <tr>\n",
       "      <th>0</th>\n",
       "      <td>8724</td>\n",
       "      <td>0</td>\n",
       "    </tr>\n",
       "    <tr>\n",
       "      <th>1</th>\n",
       "      <td>74430</td>\n",
       "      <td>0</td>\n",
       "    </tr>\n",
       "    <tr>\n",
       "      <th>2</th>\n",
       "      <td>72255</td>\n",
       "      <td>0</td>\n",
       "    </tr>\n",
       "    <tr>\n",
       "      <th>3</th>\n",
       "      <td>38562</td>\n",
       "      <td>0</td>\n",
       "    </tr>\n",
       "    <tr>\n",
       "      <th>4</th>\n",
       "      <td>64486</td>\n",
       "      <td>0</td>\n",
       "    </tr>\n",
       "  </tbody>\n",
       "</table>\n",
       "</div>"
      ],
      "text/plain": [
       "   employee_id  is_promoted\n",
       "0         8724            0\n",
       "1        74430            0\n",
       "2        72255            0\n",
       "3        38562            0\n",
       "4        64486            0"
      ]
     },
     "execution_count": 83,
     "metadata": {},
     "output_type": "execute_result"
    }
   ],
   "source": [
    "submission.head()"
   ]
  },
  {
   "cell_type": "code",
   "execution_count": 84,
   "metadata": {},
   "outputs": [],
   "source": [
    "# Specify a writer\n",
    "writer = pd.ExcelWriter('submission.xlsx', engine='xlsxwriter')\n",
    "\n",
    "# Write your DataFrame to a file     \n",
    "submission.to_excel(writer, 'Sheet1')\n",
    "\n",
    "# Save the result \n",
    "writer.save()"
   ]
  },
  {
   "cell_type": "code",
   "execution_count": null,
   "metadata": {},
   "outputs": [],
   "source": []
  }
 ],
 "metadata": {
  "kernelspec": {
   "display_name": "Python 3",
   "language": "python",
   "name": "python3"
  },
  "language_info": {
   "codemirror_mode": {
    "name": "ipython",
    "version": 3
   },
   "file_extension": ".py",
   "mimetype": "text/x-python",
   "name": "python",
   "nbconvert_exporter": "python",
   "pygments_lexer": "ipython3",
   "version": "3.6.5"
  }
 },
 "nbformat": 4,
 "nbformat_minor": 2
}
